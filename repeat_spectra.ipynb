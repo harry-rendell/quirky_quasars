{
 "cells": [
  {
   "cell_type": "code",
   "execution_count": 46,
   "id": "academic-murder",
   "metadata": {},
   "outputs": [],
   "source": [
    "import pandas as pd\n",
    "import numpy as np\n",
    "import matplotlib.pyplot as plt"
   ]
  },
  {
   "cell_type": "code",
   "execution_count": 47,
   "id": "ongoing-special",
   "metadata": {},
   "outputs": [],
   "source": [
    "from astropy.table import Table"
   ]
  },
  {
   "cell_type": "code",
   "execution_count": 53,
   "id": "proved-taste",
   "metadata": {},
   "outputs": [],
   "source": [
    "# DOWNLOAD THE FITS FILE FROM www.sdss.org/dr16/algorithms/qso_catalog/ AND PUT INTO THE DIRECTORY BELOW\n",
    "filepath = '/quirky_quasars/data/catalogues/DR16Q_v4.fits'\n",
    "# filepath = '/disk1/hrb/python/data/catalogues/qsos/dr16q/DR16Q_v4.fits' # Leave this commented out."
   ]
  },
  {
   "cell_type": "code",
   "execution_count": 54,
   "id": "synthetic-classic",
   "metadata": {},
   "outputs": [],
   "source": [
    "dr16q = Table.read(filepath)"
   ]
  },
  {
   "cell_type": "code",
   "execution_count": 55,
   "id": "empirical-diamond",
   "metadata": {},
   "outputs": [
    {
     "data": {
      "text/html": [
       "<i>Table length=5</i>\n",
       "<table id=\"table140037510616792\" class=\"table-striped table-bordered table-condensed\">\n",
       "<thead><tr><th>SDSS_NAME</th><th>RA</th><th>DEC</th><th>PLATE</th><th>MJD</th><th>FIBERID</th><th>AUTOCLASS_PQN</th><th>AUTOCLASS_DR14Q</th><th>IS_QSO_QN</th><th>Z_QN</th><th>RANDOM_SELECT</th><th>Z_10K</th><th>Z_CONF_10K</th><th>PIPE_CORR_10K</th><th>IS_QSO_10K</th><th>THING_ID</th><th>Z_VI</th><th>Z_CONF</th><th>CLASS_PERSON</th><th>Z_DR12Q</th><th>IS_QSO_DR12Q</th><th>Z_DR7Q_SCH</th><th>IS_QSO_DR7Q</th><th>Z_DR6Q_HW</th><th>Z_DR7Q_HW</th><th>IS_QSO_FINAL</th><th>Z</th><th>SOURCE_Z</th><th>Z_PIPE</th><th>ZWARNING</th><th>OBJID</th><th>Z_PCA</th><th>ZWARN_PCA</th><th>DELTACHI2_PCA</th><th>Z_HALPHA</th><th>ZWARN_HALPHA</th><th>DELTACHI2_HALPHA</th><th>Z_HBETA</th><th>ZWARN_HBETA</th><th>DELTACHI2_HBETA</th><th>Z_MGII</th><th>ZWARN_MGII</th><th>DELTACHI2_MGII</th><th>Z_CIII</th><th>ZWARN_CIII</th><th>DELTACHI2_CIII</th><th>Z_CIV</th><th>ZWARN_CIV</th><th>DELTACHI2_CIV</th><th>Z_LYA</th><th>ZWARN_LYA</th><th>DELTACHI2_LYA</th><th>Z_LYAWG</th><th>Z_DLA [5]</th><th>NHI_DLA [5]</th><th>CONF_DLA [5]</th><th>BAL_PROB</th><th>BI_CIV</th><th>ERR_BI_CIV</th><th>AI_CIV</th><th>ERR_AI_CIV</th><th>BI_SIIV</th><th>ERR_BI_SIIV</th><th>AI_SIIV</th><th>ERR_AI_SIIV</th><th>BOSS_TARGET1</th><th>EBOSS_TARGET0</th><th>EBOSS_TARGET1</th><th>EBOSS_TARGET2</th><th>ANCILLARY_TARGET1</th><th>ANCILLARY_TARGET2</th><th>NSPEC_SDSS</th><th>NSPEC_BOSS</th><th>NSPEC</th><th>PLATE_DUPLICATE [74]</th><th>MJD_DUPLICATE [74]</th><th>FIBERID_DUPLICATE [74]</th><th>SPECTRO_DUPLICATE [74]</th><th>SKYVERSION</th><th>RUN_NUMBER</th><th>RERUN_NUMBER</th><th>CAMCOL_NUMBER</th><th>FIELD_NUMBER</th><th>ID_NUMBER</th><th>LAMBDA_EFF</th><th>ZOFFSET</th><th>XFOCAL</th><th>YFOCAL</th><th>CHUNK</th><th>TILE</th><th>PLATESN2</th><th>PSFFLUX [5]</th><th>PSFFLUX_IVAR [5]</th><th>PSFMAG [5]</th><th>PSFMAGERR [5]</th><th>EXTINCTION [5]</th><th>M_I</th><th>SN_MEDIAN_ALL</th><th>GALEX_MATCHED</th><th>FUV</th><th>FUV_IVAR</th><th>NUV</th><th>NUV_IVAR</th><th>UKIDSS_MATCHED</th><th>YFLUX</th><th>YFLUX_ERR</th><th>JFLUX</th><th>JFLUX_ERR</th><th>HFLUX</th><th>HFLUX_ERR</th><th>KFLUX</th><th>KFLUX_ERR</th><th>W1_FLUX</th><th>W1_FLUX_IVAR</th><th>W1_MAG</th><th>W1_MAG_ERR</th><th>W1_CHI2</th><th>W1_FLUX_SNR</th><th>W1_SRC_FRAC</th><th>W1_EXT_FLUX</th><th>W1_EXT_FRAC</th><th>W1_NPIX</th><th>W2_FLUX</th><th>W2_FLUX_IVAR</th><th>W2_MAG</th><th>W2_MAG_ERR</th><th>W2_CHI2</th><th>W2_FLUX_SNR</th><th>W2_SRC_FRAC</th><th>W2_EXT_FLUX</th><th>W2_EXT_FRAC</th><th>W2_NPIX</th><th>FIRST_MATCHED</th><th>FIRST_FLUX</th><th>FIRST_SNR</th><th>SDSS2FIRST_SEP</th><th>JMAG</th><th>JMAG_ERR</th><th>JSNR</th><th>JRDFLAG</th><th>HMAG</th><th>HMAG_ERR</th><th>HSNR</th><th>HRDFLAG</th><th>KMAG</th><th>KMAG_ERR</th><th>KSNR</th><th>KRDFLAG</th><th>SDSS2MASS_SEP</th><th>2RXS_ID</th><th>2RXS_RA</th><th>2RXS_DEC</th><th>2RXS_SRC_FLUX</th><th>2RXS_SRC_FLUX_ERR</th><th>SDSS2ROSAT_SEP</th><th>XMM_SRC_ID</th><th>XMM_RA</th><th>XMM_DEC</th><th>XMM_SOFT_FLUX</th><th>XMM_SOFT_FLUX_ERR</th><th>XMM_HARD_FLUX</th><th>XMM_HARD_FLUX_ERR</th><th>XMM_TOTAL_FLUX</th><th>XMM_TOTAL_FLUX_ERR</th><th>XMM_TOTAL_LUM</th><th>SDSS2XMM_SEP</th><th>GAIA_MATCHED</th><th>GAIA_DESIGNATION</th><th>GAIA_RA</th><th>GAIA_DEC</th><th>GAIA_PARALLAX</th><th>GAIA_PARALLAX_ERR</th><th>GAIA_PM_RA</th><th>GAIA_PM_RA_ERR</th><th>GAIA_PM_DEC</th><th>GAIA_PM_DEC_ERR</th><th>GAIA_G_MAG</th><th>GAIA_G_FLUX_SNR</th><th>GAIA_BP_MAG</th><th>GAIA_BP_FLUX_SNR</th><th>GAIA_RP_MAG</th><th>GAIA_RP_FLUX_SNR</th><th>SDSS2GAIA_SEP</th></tr></thead>\n",
       "<thead><tr><th>bytes18</th><th>float64</th><th>float64</th><th>int32</th><th>int32</th><th>int16</th><th>bytes6</th><th>bytes6</th><th>int16</th><th>float64</th><th>int16</th><th>float64</th><th>int16</th><th>int16</th><th>int16</th><th>int64</th><th>float64</th><th>int16</th><th>int16</th><th>float64</th><th>int16</th><th>float64</th><th>int16</th><th>float64</th><th>float64</th><th>int16</th><th>float64</th><th>bytes12</th><th>float64</th><th>int32</th><th>bytes19</th><th>float64</th><th>int64</th><th>float64</th><th>float64</th><th>int64</th><th>float64</th><th>float64</th><th>int64</th><th>float64</th><th>float64</th><th>int64</th><th>float64</th><th>float64</th><th>int64</th><th>float64</th><th>float64</th><th>int64</th><th>float64</th><th>float64</th><th>int64</th><th>float64</th><th>float32</th><th>float64</th><th>float64</th><th>float64</th><th>float32</th><th>float64</th><th>float64</th><th>float64</th><th>float64</th><th>float64</th><th>float64</th><th>float64</th><th>float64</th><th>int64</th><th>int64</th><th>int64</th><th>int64</th><th>int64</th><th>int64</th><th>int32</th><th>int32</th><th>int32</th><th>int32</th><th>int32</th><th>int16</th><th>int16</th><th>uint8</th><th>int32</th><th>bytes3</th><th>int32</th><th>int32</th><th>int32</th><th>float64</th><th>float64</th><th>float64</th><th>float64</th><th>bytes14</th><th>int32</th><th>float64</th><th>float32</th><th>float64</th><th>float32</th><th>float64</th><th>float32</th><th>float64</th><th>float64</th><th>int16</th><th>float64</th><th>float64</th><th>float64</th><th>float64</th><th>int16</th><th>float64</th><th>float64</th><th>float64</th><th>float64</th><th>float64</th><th>float64</th><th>float64</th><th>float64</th><th>float32</th><th>float32</th><th>float32</th><th>float32</th><th>float32</th><th>float32</th><th>float32</th><th>float32</th><th>float32</th><th>int16</th><th>float32</th><th>float32</th><th>float32</th><th>float32</th><th>float32</th><th>float32</th><th>float32</th><th>float32</th><th>float32</th><th>int16</th><th>int16</th><th>float64</th><th>float64</th><th>float64</th><th>float64</th><th>float64</th><th>float64</th><th>int32</th><th>float64</th><th>float64</th><th>float64</th><th>int32</th><th>float64</th><th>float64</th><th>float64</th><th>int32</th><th>float64</th><th>bytes21</th><th>float64</th><th>float64</th><th>float32</th><th>float32</th><th>float64</th><th>int64</th><th>float64</th><th>float64</th><th>float32</th><th>float32</th><th>float32</th><th>float32</th><th>float32</th><th>float32</th><th>float32</th><th>float64</th><th>int16</th><th>bytes28</th><th>float64</th><th>float64</th><th>float64</th><th>float64</th><th>float64</th><th>float64</th><th>float64</th><th>float64</th><th>float64</th><th>float64</th><th>float64</th><th>float64</th><th>float64</th><th>float64</th><th>float64</th></tr></thead>\n",
       "<tr><td>000000.15+353104.2</td><td>0.0006294989251500738</td><td>35.51784115297793</td><td>7750</td><td>58402</td><td>802</td><td>QSO</td><td>QSO</td><td>1</td><td>0.8441383104284588</td><td>0</td><td>-1.0</td><td>-1</td><td>-1</td><td>-1</td><td>405570842</td><td>-1.0</td><td>0</td><td>0</td><td>-1.0</td><td>0</td><td>-1.0</td><td>-1</td><td>-1.0</td><td>-1.0</td><td>1</td><td>0.8454347848892212</td><td>PIPE</td><td>0.8454347848892212</td><td>0</td><td>1237666185111273711</td><td>0.845751479344974</td><td>0</td><td>16996.66972831516</td><td>-1.0</td><td>7682</td><td>0.0</td><td>0.8436375149058963</td><td>0</td><td>156.43772375163678</td><td>0.8428504859071788</td><td>0</td><td>750.8834989041113</td><td>0.8940224387238764</td><td>2050</td><td>21.324610028391675</td><td>-1.0</td><td>7682</td><td>0.0</td><td>-1.0</td><td>7682</td><td>0.0</td><td>0.84575146</td><td>-1.0 .. -1.0</td><td>-1.0 .. -1.0</td><td>-1.0 .. -1.0</td><td>-1.0</td><td>-1.0</td><td>-1.0</td><td>-1.0</td><td>-1.0</td><td>-1.0</td><td>-1.0</td><td>-1.0</td><td>-1.0</td><td>0</td><td>0</td><td>1024</td><td>0</td><td>0</td><td>0</td><td>0</td><td>0</td><td>0</td><td>-1 .. -1</td><td>-1 .. -1</td><td>-1 .. -1</td><td>-1 .. -1</td><td>2</td><td>4822</td><td>301</td><td>4</td><td>530</td><td>239</td><td>5400.0</td><td>0.0</td><td>70.60620880126953</td><td>106.47489166259766</td><td>eboss1</td><td>16248</td><td>15.495100021362305</td><td>25.96386 .. 49.856724</td><td>2.8376424312591553 .. 0.5966070294380188</td><td>18.964045 .. 18.255451</td><td>0.024822812527418137 .. 0.028181565925478935</td><td>0.34375072 .. 0.10241971</td><td>-25.623294188753515</td><td>24.46896743774414</td><td>1</td><td>4.148557186126709</td><td>2.070126881708091</td><td>14.441863059997559</td><td>1.4100092136448676</td><td>0</td><td>-1.0</td><td>-1.0</td><td>-1.0</td><td>-1.0</td><td>-1.0</td><td>-1.0</td><td>-1.0</td><td>-1.0</td><td>1663.6448</td><td>0.0044392394</td><td>14.447349</td><td>0.009795113</td><td>4.2344327</td><td>110.84468</td><td>0.8391846</td><td>0.25162572</td><td>0.00015125153</td><td>31</td><td>4714.6587</td><td>0.000358848</td><td>13.316375</td><td>0.012156787</td><td>3.5578887</td><td>89.31112</td><td>0.85367125</td><td>0.06125217</td><td>1.29913e-05</td><td>36</td><td>0</td><td>-1.0</td><td>-1.0</td><td>-1.0</td><td>-1.0</td><td>-1.0</td><td>-1.0</td><td>-1</td><td>-1.0</td><td>-1.0</td><td>-1.0</td><td>-1</td><td>-1.0</td><td>-1.0</td><td>-1.0</td><td>-1</td><td>-1.0</td><td>-1</td><td>-1.0</td><td>-1.0</td><td>-1.0</td><td>-1.0</td><td>-1.0</td><td>-1</td><td>-1.0</td><td>-1.0</td><td>-1.0</td><td>-1.0</td><td>-1.0</td><td>-1.0</td><td>-1.0</td><td>-1.0</td><td>-1.0</td><td>-1.0</td><td>1</td><td>Gaia DR2 2875546163053982464</td><td>0.0006280500798165479</td><td>35.51784374457776</td><td>-0.020426884293556213</td><td>21.95555305480957</td><td>-0.08630888164043427</td><td>12.555686950683594</td><td>-0.027262281626462936</td><td>32.272003173828125</td><td>18.57209587097168</td><td>338.03125</td><td>18.79897689819336</td><td>36.917076110839844</td><td>18.126667022705078</td><td>48.053558349609375</td><td>0.010250241628794688</td></tr>\n",
       "<tr><td>000000.33+310325.3</td><td>0.0014145086271355467</td><td>31.05704783916694</td><td>7749</td><td>58073</td><td>660</td><td>QSO</td><td>QSO</td><td>1</td><td>2.026022667549055</td><td>0</td><td>-1.0</td><td>-1</td><td>-1</td><td>-1</td><td>376953805</td><td>-1.0</td><td>0</td><td>0</td><td>-1.0</td><td>0</td><td>-1.0</td><td>-1</td><td>-1.0</td><td>-1.0</td><td>1</td><td>2.035491466522217</td><td>PIPE</td><td>2.035491466522217</td><td>0</td><td>1237663234451309152</td><td>2.0344430019020106</td><td>0</td><td>522.7567574737077</td><td>-1.0</td><td>7682</td><td>0.0</td><td>-1.0</td><td>7682</td><td>0.0</td><td>2.0517068015079523</td><td>0</td><td>36.65111428584561</td><td>2.0140677564448497</td><td>0</td><td>17.77954054107221</td><td>2.0079091130528393</td><td>0</td><td>94.93493230811634</td><td>2.037936700312481</td><td>0</td><td>59.69074975107185</td><td>2.030835</td><td>-1.0 .. -1.0</td><td>-1.0 .. -1.0</td><td>-1.0 .. -1.0</td><td>0.9</td><td>0.0</td><td>0.0</td><td>143.46597290039062</td><td>6.538216590881348</td><td>0.0</td><td>0.0</td><td>0.0</td><td>0.0</td><td>0</td><td>0</td><td>1024</td><td>0</td><td>0</td><td>0</td><td>0</td><td>0</td><td>0</td><td>-1 .. -1</td><td>-1 .. -1</td><td>-1 .. -1</td><td>-1 .. -1</td><td>2</td><td>4135</td><td>301</td><td>4</td><td>264</td><td>608</td><td>5400.0</td><td>0.0</td><td>-88.13436889648438</td><td>15.417671203613281</td><td>eboss1</td><td>16245</td><td>13.633299827575684</td><td>1.455544 .. 4.1010404</td><td>28.096485137939453 .. 1.7968083620071411</td><td>22.08253 .. 20.934025</td><td>0.13819186389446259 .. 0.18577812612056732</td><td>0.19886895 .. 0.059252534</td><td>-24.53857663984803</td><td>2.288592576980591</td><td>1</td><td>0.2793227732181549</td><td>107.3597961873109</td><td>0.16517719626426697</td><td>210.68806861684362</td><td>0</td><td>-1.0</td><td>-1.0</td><td>-1.0</td><td>-1.0</td><td>-1.0</td><td>-1.0</td><td>-1.0</td><td>-1.0</td><td>126.41466</td><td>0.005014072</td><td>17.245506</td><td>0.12129184</td><td>0.611314</td><td>8.951437</td><td>0.8435239</td><td>0.004989492</td><td>3.9469247e-05</td><td>33</td><td>267.47</td><td>0.0003521512</td><td>16.431812</td><td>0.216314</td><td>1.0426483</td><td>5.0192595</td><td>0.855141</td><td>-0.031017762</td><td>-0.00011596725</td><td>35</td><td>0</td><td>-1.0</td><td>-1.0</td><td>-1.0</td><td>-1.0</td><td>-1.0</td><td>-1.0</td><td>-1</td><td>-1.0</td><td>-1.0</td><td>-1.0</td><td>-1</td><td>-1.0</td><td>-1.0</td><td>-1.0</td><td>-1</td><td>-1.0</td><td>-1</td><td>-1.0</td><td>-1.0</td><td>-1.0</td><td>-1.0</td><td>-1.0</td><td>-1</td><td>-1.0</td><td>-1.0</td><td>-1.0</td><td>-1.0</td><td>-1.0</td><td>-1.0</td><td>-1.0</td><td>-1.0</td><td>-1.0</td><td>-1.0</td><td>0</td><td>-1</td><td>-1.0</td><td>-1.0</td><td>-1.0</td><td>-1.0</td><td>-1.0</td><td>-1.0</td><td>-1.0</td><td>-1.0</td><td>-1.0</td><td>-1.0</td><td>-1.0</td><td>-1.0</td><td>-1.0</td><td>-1.0</td><td>-1.0</td></tr>\n",
       "<tr><td>000000.36+070350.8</td><td>0.0015353689425410266</td><td>7.064129305528049</td><td>11279</td><td>58449</td><td>978</td><td>QSO</td><td>QSO</td><td>1</td><td>1.565546678922586</td><td>0</td><td>-1.0</td><td>-1</td><td>-1</td><td>-1</td><td>175096522</td><td>-1.0</td><td>0</td><td>0</td><td>-1.0</td><td>0</td><td>-1.0</td><td>-1</td><td>-1.0</td><td>-1.0</td><td>1</td><td>1.5742274522781372</td><td>PIPE</td><td>1.5742274522781372</td><td>0</td><td>1237669517441827491</td><td>1.5748324669819411</td><td>0</td><td>395.17112356819234</td><td>-1.0</td><td>7682</td><td>0.0</td><td>-1.0</td><td>7682</td><td>0.0</td><td>1.571394626776076</td><td>0</td><td>51.26856655958335</td><td>1.57383165321738</td><td>0</td><td>28.665405762936928</td><td>1.5893603661422095</td><td>0</td><td>121.69651782476126</td><td>-1.0</td><td>7682</td><td>0.0</td><td>1.5748324</td><td>-1.0 .. -1.0</td><td>-1.0 .. -1.0</td><td>-1.0 .. -1.0</td><td>0.0</td><td>0.0</td><td>0.0</td><td>0.0</td><td>0.0</td><td>0.0</td><td>0.0</td><td>0.0</td><td>0.0</td><td>0</td><td>0</td><td>1024</td><td>0</td><td>0</td><td>0</td><td>0</td><td>0</td><td>0</td><td>-1 .. -1</td><td>-1 .. -1</td><td>-1 .. -1</td><td>-1 .. -1</td><td>2</td><td>5598</td><td>301</td><td>3</td><td>115</td><td>675</td><td>5400.0</td><td>0.0</td><td>223.17718505859375</td><td>33.97584533691406</td><td>eboss26</td><td>17451</td><td>15.228899955749512</td><td>0.96423775 .. 1.4440194</td><td>26.673974990844727 .. 3.1541740894317627</td><td>22.517344 .. 21.88876</td><td>0.2093711793422699 .. 0.29565373063087463</td><td>0.2439438 .. 0.07268248</td><td>-23.570057379465844</td><td>1.4206629991531372</td><td>1</td><td>0.0</td><td>0.0</td><td>0.0</td><td>0.0</td><td>1</td><td>3.781623219692077e-32</td><td>3.522887509121285e-32</td><td>4.6802930589995313e-32</td><td>4.486788762565333e-32</td><td>5.673621050274889e-32</td><td>6.636885185780791e-32</td><td>1.8909267789050603e-31</td><td>6.076921407098508e-32</td><td>3.112474</td><td>0.0034322678</td><td>21.267235</td><td>5.9542627</td><td>0.33925283</td><td>0.18234603</td><td>0.8454622</td><td>-2.4947178e-10</td><td>0.0</td><td>34</td><td>167.85875</td><td>0.00025295082</td><td>16.93764</td><td>0.40668884</td><td>1.0788183</td><td>2.6696975</td><td>0.8543751</td><td>8.0944886e-08</td><td>0.0</td><td>34</td><td>0</td><td>-1.0</td><td>-1.0</td><td>-1.0</td><td>-1.0</td><td>-1.0</td><td>-1.0</td><td>-1</td><td>-1.0</td><td>-1.0</td><td>-1.0</td><td>-1</td><td>-1.0</td><td>-1.0</td><td>-1.0</td><td>-1</td><td>-1.0</td><td>-1</td><td>-1.0</td><td>-1.0</td><td>-1.0</td><td>-1.0</td><td>-1.0</td><td>-1</td><td>-1.0</td><td>-1.0</td><td>-1.0</td><td>-1.0</td><td>-1.0</td><td>-1.0</td><td>-1.0</td><td>-1.0</td><td>-1.0</td><td>-1.0</td><td>0</td><td>-1</td><td>-1.0</td><td>-1.0</td><td>-1.0</td><td>-1.0</td><td>-1.0</td><td>-1.0</td><td>-1.0</td><td>-1.0</td><td>-1.0</td><td>-1.0</td><td>-1.0</td><td>-1.0</td><td>-1.0</td><td>-1.0</td><td>-1.0</td></tr>\n",
       "<tr><td>000000.36+274356.2</td><td>0.0015264841092630377</td><td>27.73228339001279</td><td>7695</td><td>57654</td><td>565</td><td>QSO</td><td>QSO</td><td>1</td><td>1.7744081379526175</td><td>0</td><td>-1.0</td><td>-1</td><td>-1</td><td>-1</td><td>351857966</td><td>-1.0</td><td>0</td><td>0</td><td>-1.0</td><td>0</td><td>-1.0</td><td>-1</td><td>-1.0</td><td>-1.0</td><td>1</td><td>1.7705516815185547</td><td>PIPE</td><td>1.7705516815185547</td><td>0</td><td>1237663233378943459</td><td>1.7711350379809114</td><td>0</td><td>410.12555811197035</td><td>-1.0</td><td>7682</td><td>0.0</td><td>-1.0</td><td>7682</td><td>0.0</td><td>1.7702794429839241</td><td>0</td><td>21.87843562643343</td><td>1.7558669284907311</td><td>0</td><td>22.79849258331683</td><td>1.7673499491247613</td><td>0</td><td>94.47670636372106</td><td>-1.0</td><td>7682</td><td>0.0</td><td>1.7716389</td><td>-1.0 .. -1.0</td><td>-1.0 .. -1.0</td><td>-1.0 .. -1.0</td><td>0.0</td><td>0.0</td><td>0.0</td><td>0.0</td><td>0.0</td><td>0.0</td><td>0.0</td><td>0.0</td><td>0.0</td><td>0</td><td>0</td><td>1024</td><td>0</td><td>0</td><td>0</td><td>0</td><td>0</td><td>0</td><td>-1 .. -1</td><td>-1 .. -1</td><td>-1 .. -1</td><td>-1 .. -1</td><td>2</td><td>4135</td><td>301</td><td>2</td><td>285</td><td>483</td><td>5400.0</td><td>0.0</td><td>-215.65855407714844</td><td>78.34519958496094</td><td>eboss1</td><td>16242</td><td>12.403200149536133</td><td>1.1337416 .. 1.2490184</td><td>24.20319938659668 .. 2.469827890396118</td><td>22.347525 .. 21.994589</td><td>0.18898065388202667 .. 0.35673806071281433</td><td>0.26307732 .. 0.07838327</td><td>-23.85126145027972</td><td>1.0090569257736206</td><td>1</td><td>0.0</td><td>0.0</td><td>0.0</td><td>0.0</td><td>0</td><td>-1.0</td><td>-1.0</td><td>-1.0</td><td>-1.0</td><td>-1.0</td><td>-1.0</td><td>-1.0</td><td>-1.0</td><td>101.44838</td><td>0.0057541076</td><td>17.484386</td><td>0.14108804</td><td>0.63978136</td><td>7.6954517</td><td>0.8436933</td><td>0.07803405</td><td>0.0007692</td><td>33</td><td>154.28232</td><td>0.0003330853</td><td>17.02921</td><td>0.38559413</td><td>0.5723123</td><td>2.815749</td><td>0.85512805</td><td>-0.5261928</td><td>-0.003410584</td><td>35</td><td>0</td><td>-1.0</td><td>-1.0</td><td>-1.0</td><td>-1.0</td><td>-1.0</td><td>-1.0</td><td>-1</td><td>-1.0</td><td>-1.0</td><td>-1.0</td><td>-1</td><td>-1.0</td><td>-1.0</td><td>-1.0</td><td>-1</td><td>-1.0</td><td>-1</td><td>-1.0</td><td>-1.0</td><td>-1.0</td><td>-1.0</td><td>-1.0</td><td>-1</td><td>-1.0</td><td>-1.0</td><td>-1.0</td><td>-1.0</td><td>-1.0</td><td>-1.0</td><td>-1.0</td><td>-1.0</td><td>-1.0</td><td>-1.0</td><td>0</td><td>-1</td><td>-1.0</td><td>-1.0</td><td>-1.0</td><td>-1.0</td><td>-1.0</td><td>-1.0</td><td>-1.0</td><td>-1.0</td><td>-1.0</td><td>-1.0</td><td>-1.0</td><td>-1.0</td><td>-1.0</td><td>-1.0</td><td>-1.0</td></tr>\n",
       "<tr><td>000000.45+092308.2</td><td>0.0019139323820809295</td><td>9.385636911648206</td><td>11277</td><td>58450</td><td>705</td><td>QSO</td><td>QSO</td><td>1</td><td>2.033732811422727</td><td>0</td><td>-1.0</td><td>-1</td><td>-1</td><td>-1</td><td>196571343</td><td>-1.0</td><td>0</td><td>0</td><td>-1.0</td><td>0</td><td>-1.0</td><td>-1</td><td>-1.0</td><td>-1.0</td><td>1</td><td>2.024146318435669</td><td>PIPE</td><td>2.024146318435669</td><td>0</td><td>1237679318015606804</td><td>2.0259091237511564</td><td>0</td><td>26576.813852902626</td><td>-1.0</td><td>7682</td><td>0.0</td><td>-1.0</td><td>7682</td><td>0.0</td><td>2.036802201236187</td><td>0</td><td>712.5588206441782</td><td>2.0309983965987133</td><td>0</td><td>673.5819974202324</td><td>2.021040762631008</td><td>0</td><td>3658.945308889662</td><td>2.032103120491116</td><td>0</td><td>1380.504531362969</td><td>2.0266654</td><td>-1.0 .. -1.0</td><td>-1.0 .. -1.0</td><td>-1.0 .. -1.0</td><td>0.0</td><td>0.0</td><td>0.0</td><td>0.0</td><td>0.0</td><td>0.0</td><td>0.0</td><td>0.0</td><td>0.0</td><td>0</td><td>0</td><td>1024</td><td>0</td><td>0</td><td>0</td><td>0</td><td>0</td><td>0</td><td>-1 .. -1</td><td>-1 .. -1</td><td>-1 .. -1</td><td>-1 .. -1</td><td>2</td><td>7880</td><td>301</td><td>2</td><td>43</td><td>20</td><td>5400.0</td><td>0.0</td><td>-63.36301803588867</td><td>115.9906234741211</td><td>eboss26</td><td>17434</td><td>14.530900001525879</td><td>31.14695 .. 54.50869</td><td>1.7722076177597046 .. 0.8584942817687988</td><td>18.76644 .. 18.158636</td><td>0.026183877140283585 .. 0.021489674225449562</td><td>0.3726525 .. 0.111030936</td><td>-27.62001811657619</td><td>22.831876754760742</td><td>1</td><td>4.856250762939453</td><td>1.2267018486788392</td><td>8.22021198272705</td><td>1.5499775640933848</td><td>1</td><td>1.6171358539064507e-30</td><td>3.037724844085639e-32</td><td>1.8085208163107213e-30</td><td>3.663023774280976e-32</td><td>1.8053765099815937e-30</td><td>4.290846196973941e-32</td><td>1.744522766111841e-30</td><td>4.935802625324492e-32</td><td>756.07153</td><td>0.003366521</td><td>15.303593</td><td>0.024749745</td><td>1.280028</td><td>43.868576</td><td>0.92667514</td><td>0.114683196</td><td>0.00015168419</td><td>133</td><td>2430.9502</td><td>0.00026684027</td><td>14.03556</td><td>0.027341515</td><td>2.9761937</td><td>39.71017</td><td>0.93790966</td><td>0.009088497</td><td>3.740147e-06</td><td>133</td><td>0</td><td>-1.0</td><td>-1.0</td><td>-1.0</td><td>-1.0</td><td>-1.0</td><td>-1.0</td><td>-1</td><td>-1.0</td><td>-1.0</td><td>-1.0</td><td>-1</td><td>-1.0</td><td>-1.0</td><td>-1.0</td><td>-1</td><td>-1.0</td><td>-1</td><td>-1.0</td><td>-1.0</td><td>-1.0</td><td>-1.0</td><td>-1.0</td><td>-1</td><td>-1.0</td><td>-1.0</td><td>-1.0</td><td>-1.0</td><td>-1.0</td><td>-1.0</td><td>-1.0</td><td>-1.0</td><td>-1.0</td><td>-1.0</td><td>1</td><td>Gaia DR2 2747188660230483712</td><td>0.0019172973085235152</td><td>9.385655598551972</td><td>0.02837894856929779</td><td>19.791959762573242</td><td>-0.2945098578929901</td><td>5.826672077178955</td><td>-0.14840765297412872</td><td>35.20163345336914</td><td>18.343128204345703</td><td>318.29473876953125</td><td>18.520456314086914</td><td>56.96324920654297</td><td>17.896278381347656</td><td>73.99073791503906</td><td>0.06832625287474876</td></tr>\n",
       "</table>"
      ],
      "text/plain": [
       "<Table length=5>\n",
       "    SDSS_NAME                RA          ...    SDSS2GAIA_SEP    \n",
       "     bytes18              float64        ...       float64       \n",
       "------------------ --------------------- ... --------------------\n",
       "000000.15+353104.2 0.0006294989251500738 ... 0.010250241628794688\n",
       "000000.33+310325.3 0.0014145086271355467 ...                 -1.0\n",
       "000000.36+070350.8 0.0015353689425410266 ...                 -1.0\n",
       "000000.36+274356.2 0.0015264841092630377 ...                 -1.0\n",
       "000000.45+092308.2 0.0019139323820809295 ...  0.06832625287474876"
      ]
     },
     "execution_count": 55,
     "metadata": {},
     "output_type": "execute_result"
    }
   ],
   "source": [
    "# Let's look at the first 5 rows\n",
    "dr16q[:5]"
   ]
  },
  {
   "cell_type": "code",
   "execution_count": 56,
   "id": "pressed-cradle",
   "metadata": {},
   "outputs": [
    {
     "data": {
      "text/plain": [
       "['SDSS_NAME',\n",
       " 'RA',\n",
       " 'DEC',\n",
       " 'PLATE',\n",
       " 'MJD',\n",
       " 'FIBERID',\n",
       " 'AUTOCLASS_PQN',\n",
       " 'AUTOCLASS_DR14Q',\n",
       " 'IS_QSO_QN',\n",
       " 'Z_QN',\n",
       " 'RANDOM_SELECT',\n",
       " 'Z_10K',\n",
       " 'Z_CONF_10K',\n",
       " 'PIPE_CORR_10K',\n",
       " 'IS_QSO_10K',\n",
       " 'THING_ID',\n",
       " 'Z_VI',\n",
       " 'Z_CONF',\n",
       " 'CLASS_PERSON',\n",
       " 'Z_DR12Q',\n",
       " 'IS_QSO_DR12Q',\n",
       " 'Z_DR7Q_SCH',\n",
       " 'IS_QSO_DR7Q',\n",
       " 'Z_DR6Q_HW',\n",
       " 'Z_DR7Q_HW',\n",
       " 'IS_QSO_FINAL',\n",
       " 'Z',\n",
       " 'SOURCE_Z',\n",
       " 'Z_PIPE',\n",
       " 'ZWARNING',\n",
       " 'OBJID',\n",
       " 'Z_PCA',\n",
       " 'ZWARN_PCA',\n",
       " 'DELTACHI2_PCA',\n",
       " 'Z_HALPHA',\n",
       " 'ZWARN_HALPHA',\n",
       " 'DELTACHI2_HALPHA',\n",
       " 'Z_HBETA',\n",
       " 'ZWARN_HBETA',\n",
       " 'DELTACHI2_HBETA',\n",
       " 'Z_MGII',\n",
       " 'ZWARN_MGII',\n",
       " 'DELTACHI2_MGII',\n",
       " 'Z_CIII',\n",
       " 'ZWARN_CIII',\n",
       " 'DELTACHI2_CIII',\n",
       " 'Z_CIV',\n",
       " 'ZWARN_CIV',\n",
       " 'DELTACHI2_CIV',\n",
       " 'Z_LYA',\n",
       " 'ZWARN_LYA',\n",
       " 'DELTACHI2_LYA',\n",
       " 'Z_LYAWG',\n",
       " 'Z_DLA',\n",
       " 'NHI_DLA',\n",
       " 'CONF_DLA',\n",
       " 'BAL_PROB',\n",
       " 'BI_CIV',\n",
       " 'ERR_BI_CIV',\n",
       " 'AI_CIV',\n",
       " 'ERR_AI_CIV',\n",
       " 'BI_SIIV',\n",
       " 'ERR_BI_SIIV',\n",
       " 'AI_SIIV',\n",
       " 'ERR_AI_SIIV',\n",
       " 'BOSS_TARGET1',\n",
       " 'EBOSS_TARGET0',\n",
       " 'EBOSS_TARGET1',\n",
       " 'EBOSS_TARGET2',\n",
       " 'ANCILLARY_TARGET1',\n",
       " 'ANCILLARY_TARGET2',\n",
       " 'NSPEC_SDSS',\n",
       " 'NSPEC_BOSS',\n",
       " 'NSPEC',\n",
       " 'PLATE_DUPLICATE',\n",
       " 'MJD_DUPLICATE',\n",
       " 'FIBERID_DUPLICATE',\n",
       " 'SPECTRO_DUPLICATE',\n",
       " 'SKYVERSION',\n",
       " 'RUN_NUMBER',\n",
       " 'RERUN_NUMBER',\n",
       " 'CAMCOL_NUMBER',\n",
       " 'FIELD_NUMBER',\n",
       " 'ID_NUMBER',\n",
       " 'LAMBDA_EFF',\n",
       " 'ZOFFSET',\n",
       " 'XFOCAL',\n",
       " 'YFOCAL',\n",
       " 'CHUNK',\n",
       " 'TILE',\n",
       " 'PLATESN2',\n",
       " 'PSFFLUX',\n",
       " 'PSFFLUX_IVAR',\n",
       " 'PSFMAG',\n",
       " 'PSFMAGERR',\n",
       " 'EXTINCTION',\n",
       " 'M_I',\n",
       " 'SN_MEDIAN_ALL',\n",
       " 'GALEX_MATCHED',\n",
       " 'FUV',\n",
       " 'FUV_IVAR',\n",
       " 'NUV',\n",
       " 'NUV_IVAR',\n",
       " 'UKIDSS_MATCHED',\n",
       " 'YFLUX',\n",
       " 'YFLUX_ERR',\n",
       " 'JFLUX',\n",
       " 'JFLUX_ERR',\n",
       " 'HFLUX',\n",
       " 'HFLUX_ERR',\n",
       " 'KFLUX',\n",
       " 'KFLUX_ERR',\n",
       " 'W1_FLUX',\n",
       " 'W1_FLUX_IVAR',\n",
       " 'W1_MAG',\n",
       " 'W1_MAG_ERR',\n",
       " 'W1_CHI2',\n",
       " 'W1_FLUX_SNR',\n",
       " 'W1_SRC_FRAC',\n",
       " 'W1_EXT_FLUX',\n",
       " 'W1_EXT_FRAC',\n",
       " 'W1_NPIX',\n",
       " 'W2_FLUX',\n",
       " 'W2_FLUX_IVAR',\n",
       " 'W2_MAG',\n",
       " 'W2_MAG_ERR',\n",
       " 'W2_CHI2',\n",
       " 'W2_FLUX_SNR',\n",
       " 'W2_SRC_FRAC',\n",
       " 'W2_EXT_FLUX',\n",
       " 'W2_EXT_FRAC',\n",
       " 'W2_NPIX',\n",
       " 'FIRST_MATCHED',\n",
       " 'FIRST_FLUX',\n",
       " 'FIRST_SNR',\n",
       " 'SDSS2FIRST_SEP',\n",
       " 'JMAG',\n",
       " 'JMAG_ERR',\n",
       " 'JSNR',\n",
       " 'JRDFLAG',\n",
       " 'HMAG',\n",
       " 'HMAG_ERR',\n",
       " 'HSNR',\n",
       " 'HRDFLAG',\n",
       " 'KMAG',\n",
       " 'KMAG_ERR',\n",
       " 'KSNR',\n",
       " 'KRDFLAG',\n",
       " 'SDSS2MASS_SEP',\n",
       " '2RXS_ID',\n",
       " '2RXS_RA',\n",
       " '2RXS_DEC',\n",
       " '2RXS_SRC_FLUX',\n",
       " '2RXS_SRC_FLUX_ERR',\n",
       " 'SDSS2ROSAT_SEP',\n",
       " 'XMM_SRC_ID',\n",
       " 'XMM_RA',\n",
       " 'XMM_DEC',\n",
       " 'XMM_SOFT_FLUX',\n",
       " 'XMM_SOFT_FLUX_ERR',\n",
       " 'XMM_HARD_FLUX',\n",
       " 'XMM_HARD_FLUX_ERR',\n",
       " 'XMM_TOTAL_FLUX',\n",
       " 'XMM_TOTAL_FLUX_ERR',\n",
       " 'XMM_TOTAL_LUM',\n",
       " 'SDSS2XMM_SEP',\n",
       " 'GAIA_MATCHED',\n",
       " 'GAIA_DESIGNATION',\n",
       " 'GAIA_RA',\n",
       " 'GAIA_DEC',\n",
       " 'GAIA_PARALLAX',\n",
       " 'GAIA_PARALLAX_ERR',\n",
       " 'GAIA_PM_RA',\n",
       " 'GAIA_PM_RA_ERR',\n",
       " 'GAIA_PM_DEC',\n",
       " 'GAIA_PM_DEC_ERR',\n",
       " 'GAIA_G_MAG',\n",
       " 'GAIA_G_FLUX_SNR',\n",
       " 'GAIA_BP_MAG',\n",
       " 'GAIA_BP_FLUX_SNR',\n",
       " 'GAIA_RP_MAG',\n",
       " 'GAIA_RP_FLUX_SNR',\n",
       " 'SDSS2GAIA_SEP']"
      ]
     },
     "execution_count": 56,
     "metadata": {},
     "output_type": "execute_result"
    }
   ],
   "source": [
    "# What columns are included in DR16Q? Crikey! That's a lot. The description of each of these \n",
    "# can be found at the bottom of the DR16Q paper: https://ui.adsabs.harvard.edu/abs/2020ApJS..250....8L/abstract\n",
    "list(dr16q.columns)"
   ]
  },
  {
   "cell_type": "code",
   "execution_count": 57,
   "id": "bizarre-pioneer",
   "metadata": {},
   "outputs": [],
   "source": [
    "# Let's filter by g < 17, z < 0.5 and nspec > 1\n",
    "mask = (dr16q['PSFMAG'][:,1] < 17) &  (dr16q['Z'] < 0.5) & (dr16q['NSPEC'] > 1)"
   ]
  },
  {
   "cell_type": "code",
   "execution_count": 58,
   "id": "other-applicant",
   "metadata": {},
   "outputs": [
    {
     "data": {
      "text/html": [
       "<i>Table length=7</i>\n",
       "<table id=\"table140037510617520\" class=\"table-striped table-bordered table-condensed\">\n",
       "<thead><tr><th>SDSS_NAME</th><th>RA</th><th>DEC</th><th>PLATE</th><th>MJD</th><th>FIBERID</th><th>AUTOCLASS_PQN</th><th>AUTOCLASS_DR14Q</th><th>IS_QSO_QN</th><th>Z_QN</th><th>RANDOM_SELECT</th><th>Z_10K</th><th>Z_CONF_10K</th><th>PIPE_CORR_10K</th><th>IS_QSO_10K</th><th>THING_ID</th><th>Z_VI</th><th>Z_CONF</th><th>CLASS_PERSON</th><th>Z_DR12Q</th><th>IS_QSO_DR12Q</th><th>Z_DR7Q_SCH</th><th>IS_QSO_DR7Q</th><th>Z_DR6Q_HW</th><th>Z_DR7Q_HW</th><th>IS_QSO_FINAL</th><th>Z</th><th>SOURCE_Z</th><th>Z_PIPE</th><th>ZWARNING</th><th>OBJID</th><th>Z_PCA</th><th>ZWARN_PCA</th><th>DELTACHI2_PCA</th><th>Z_HALPHA</th><th>ZWARN_HALPHA</th><th>DELTACHI2_HALPHA</th><th>Z_HBETA</th><th>ZWARN_HBETA</th><th>DELTACHI2_HBETA</th><th>Z_MGII</th><th>ZWARN_MGII</th><th>DELTACHI2_MGII</th><th>Z_CIII</th><th>ZWARN_CIII</th><th>DELTACHI2_CIII</th><th>Z_CIV</th><th>ZWARN_CIV</th><th>DELTACHI2_CIV</th><th>Z_LYA</th><th>ZWARN_LYA</th><th>DELTACHI2_LYA</th><th>Z_LYAWG</th><th>Z_DLA [5]</th><th>NHI_DLA [5]</th><th>CONF_DLA [5]</th><th>BAL_PROB</th><th>BI_CIV</th><th>ERR_BI_CIV</th><th>AI_CIV</th><th>ERR_AI_CIV</th><th>BI_SIIV</th><th>ERR_BI_SIIV</th><th>AI_SIIV</th><th>ERR_AI_SIIV</th><th>BOSS_TARGET1</th><th>EBOSS_TARGET0</th><th>EBOSS_TARGET1</th><th>EBOSS_TARGET2</th><th>ANCILLARY_TARGET1</th><th>ANCILLARY_TARGET2</th><th>NSPEC_SDSS</th><th>NSPEC_BOSS</th><th>NSPEC</th><th>PLATE_DUPLICATE [74]</th><th>MJD_DUPLICATE [74]</th><th>FIBERID_DUPLICATE [74]</th><th>SPECTRO_DUPLICATE [74]</th><th>SKYVERSION</th><th>RUN_NUMBER</th><th>RERUN_NUMBER</th><th>CAMCOL_NUMBER</th><th>FIELD_NUMBER</th><th>ID_NUMBER</th><th>LAMBDA_EFF</th><th>ZOFFSET</th><th>XFOCAL</th><th>YFOCAL</th><th>CHUNK</th><th>TILE</th><th>PLATESN2</th><th>PSFFLUX [5]</th><th>PSFFLUX_IVAR [5]</th><th>PSFMAG [5]</th><th>PSFMAGERR [5]</th><th>EXTINCTION [5]</th><th>M_I</th><th>SN_MEDIAN_ALL</th><th>GALEX_MATCHED</th><th>FUV</th><th>FUV_IVAR</th><th>NUV</th><th>NUV_IVAR</th><th>UKIDSS_MATCHED</th><th>YFLUX</th><th>YFLUX_ERR</th><th>JFLUX</th><th>JFLUX_ERR</th><th>HFLUX</th><th>HFLUX_ERR</th><th>KFLUX</th><th>KFLUX_ERR</th><th>W1_FLUX</th><th>W1_FLUX_IVAR</th><th>W1_MAG</th><th>W1_MAG_ERR</th><th>W1_CHI2</th><th>W1_FLUX_SNR</th><th>W1_SRC_FRAC</th><th>W1_EXT_FLUX</th><th>W1_EXT_FRAC</th><th>W1_NPIX</th><th>W2_FLUX</th><th>W2_FLUX_IVAR</th><th>W2_MAG</th><th>W2_MAG_ERR</th><th>W2_CHI2</th><th>W2_FLUX_SNR</th><th>W2_SRC_FRAC</th><th>W2_EXT_FLUX</th><th>W2_EXT_FRAC</th><th>W2_NPIX</th><th>FIRST_MATCHED</th><th>FIRST_FLUX</th><th>FIRST_SNR</th><th>SDSS2FIRST_SEP</th><th>JMAG</th><th>JMAG_ERR</th><th>JSNR</th><th>JRDFLAG</th><th>HMAG</th><th>HMAG_ERR</th><th>HSNR</th><th>HRDFLAG</th><th>KMAG</th><th>KMAG_ERR</th><th>KSNR</th><th>KRDFLAG</th><th>SDSS2MASS_SEP</th><th>2RXS_ID</th><th>2RXS_RA</th><th>2RXS_DEC</th><th>2RXS_SRC_FLUX</th><th>2RXS_SRC_FLUX_ERR</th><th>SDSS2ROSAT_SEP</th><th>XMM_SRC_ID</th><th>XMM_RA</th><th>XMM_DEC</th><th>XMM_SOFT_FLUX</th><th>XMM_SOFT_FLUX_ERR</th><th>XMM_HARD_FLUX</th><th>XMM_HARD_FLUX_ERR</th><th>XMM_TOTAL_FLUX</th><th>XMM_TOTAL_FLUX_ERR</th><th>XMM_TOTAL_LUM</th><th>SDSS2XMM_SEP</th><th>GAIA_MATCHED</th><th>GAIA_DESIGNATION</th><th>GAIA_RA</th><th>GAIA_DEC</th><th>GAIA_PARALLAX</th><th>GAIA_PARALLAX_ERR</th><th>GAIA_PM_RA</th><th>GAIA_PM_RA_ERR</th><th>GAIA_PM_DEC</th><th>GAIA_PM_DEC_ERR</th><th>GAIA_G_MAG</th><th>GAIA_G_FLUX_SNR</th><th>GAIA_BP_MAG</th><th>GAIA_BP_FLUX_SNR</th><th>GAIA_RP_MAG</th><th>GAIA_RP_FLUX_SNR</th><th>SDSS2GAIA_SEP</th></tr></thead>\n",
       "<thead><tr><th>bytes18</th><th>float64</th><th>float64</th><th>int32</th><th>int32</th><th>int16</th><th>bytes6</th><th>bytes6</th><th>int16</th><th>float64</th><th>int16</th><th>float64</th><th>int16</th><th>int16</th><th>int16</th><th>int64</th><th>float64</th><th>int16</th><th>int16</th><th>float64</th><th>int16</th><th>float64</th><th>int16</th><th>float64</th><th>float64</th><th>int16</th><th>float64</th><th>bytes12</th><th>float64</th><th>int32</th><th>bytes19</th><th>float64</th><th>int64</th><th>float64</th><th>float64</th><th>int64</th><th>float64</th><th>float64</th><th>int64</th><th>float64</th><th>float64</th><th>int64</th><th>float64</th><th>float64</th><th>int64</th><th>float64</th><th>float64</th><th>int64</th><th>float64</th><th>float64</th><th>int64</th><th>float64</th><th>float32</th><th>float64</th><th>float64</th><th>float64</th><th>float32</th><th>float64</th><th>float64</th><th>float64</th><th>float64</th><th>float64</th><th>float64</th><th>float64</th><th>float64</th><th>int64</th><th>int64</th><th>int64</th><th>int64</th><th>int64</th><th>int64</th><th>int32</th><th>int32</th><th>int32</th><th>int32</th><th>int32</th><th>int16</th><th>int16</th><th>uint8</th><th>int32</th><th>bytes3</th><th>int32</th><th>int32</th><th>int32</th><th>float64</th><th>float64</th><th>float64</th><th>float64</th><th>bytes14</th><th>int32</th><th>float64</th><th>float32</th><th>float64</th><th>float32</th><th>float64</th><th>float32</th><th>float64</th><th>float64</th><th>int16</th><th>float64</th><th>float64</th><th>float64</th><th>float64</th><th>int16</th><th>float64</th><th>float64</th><th>float64</th><th>float64</th><th>float64</th><th>float64</th><th>float64</th><th>float64</th><th>float32</th><th>float32</th><th>float32</th><th>float32</th><th>float32</th><th>float32</th><th>float32</th><th>float32</th><th>float32</th><th>int16</th><th>float32</th><th>float32</th><th>float32</th><th>float32</th><th>float32</th><th>float32</th><th>float32</th><th>float32</th><th>float32</th><th>int16</th><th>int16</th><th>float64</th><th>float64</th><th>float64</th><th>float64</th><th>float64</th><th>float64</th><th>int32</th><th>float64</th><th>float64</th><th>float64</th><th>int32</th><th>float64</th><th>float64</th><th>float64</th><th>int32</th><th>float64</th><th>bytes21</th><th>float64</th><th>float64</th><th>float32</th><th>float32</th><th>float64</th><th>int64</th><th>float64</th><th>float64</th><th>float32</th><th>float32</th><th>float32</th><th>float32</th><th>float32</th><th>float32</th><th>float32</th><th>float64</th><th>int16</th><th>bytes28</th><th>float64</th><th>float64</th><th>float64</th><th>float64</th><th>float64</th><th>float64</th><th>float64</th><th>float64</th><th>float64</th><th>float64</th><th>float64</th><th>float64</th><th>float64</th><th>float64</th><th>float64</th></tr></thead>\n",
       "<tr><td>010226.31-003904.5</td><td>15.609655487186668</td><td>-0.6512571712025426</td><td>7874</td><td>57279</td><td>436</td><td>QSO</td><td>VI</td><td>1</td><td>0.2946230988702043</td><td>0</td><td>-1.0</td><td>-1</td><td>-1</td><td>-1</td><td>77783223</td><td>0.294</td><td>3</td><td>3</td><td>-1.0</td><td>0</td><td>0.2943</td><td>1</td><td>0.291345</td><td>0.29391801357269287</td><td>1</td><td>0.294</td><td>VI</td><td>0.29378488659858704</td><td>64</td><td>1237663783130497044</td><td>0.29435799404297935</td><td>0</td><td>395206.19299025834</td><td>0.2951173499859676</td><td>0</td><td>63754.859457089755</td><td>0.29469684139478236</td><td>0</td><td>21350.06085174255</td><td>0.29297571205583806</td><td>0</td><td>1691.6424290110663</td><td>-1.0</td><td>7682</td><td>0.0</td><td>-1.0</td><td>7682</td><td>0.0</td><td>-1.0</td><td>7682</td><td>0.0</td><td>0.294358</td><td>-1.0 .. -1.0</td><td>-1.0 .. -1.0</td><td>-1.0 .. -1.0</td><td>-1.0</td><td>-1.0</td><td>-1.0</td><td>-1.0</td><td>-1.0</td><td>-1.0</td><td>-1.0</td><td>-1.0</td><td>-1.0</td><td>0</td><td>0</td><td>1073741824</td><td>8388608</td><td>0</td><td>0</td><td>1</td><td>1</td><td>2</td><td>396 .. -1</td><td>51816 .. -1</td><td>276 .. -1</td><td>1 .. -1</td><td>2</td><td>4263</td><td>301</td><td>2</td><td>220</td><td>20</td><td>5400.0</td><td>0.0</td><td>-230.8775634765625</td><td>-178.1520233154297</td><td>eboss2</td><td>16369</td><td>14.336799621582031</td><td>321.83286 .. 455.03055</td><td>0.016509613022208214 .. 0.02178259566426277</td><td>16.230925 .. 15.854896</td><td>0.026255805045366287 .. 0.016166895627975464</td><td>0.15372972 .. 0.045803405</td><td>-25.24453165416375</td><td>47.473541259765625</td><td>1</td><td>160.1229248046875</td><td>2.061605412919428</td><td>154.00596618652344</td><td>0.002184427170172863</td><td>0</td><td>-1.0</td><td>-1.0</td><td>-1.0</td><td>-1.0</td><td>-1.0</td><td>-1.0</td><td>-1.0</td><td>-1.0</td><td>20051.543</td><td>0.0035572008</td><td>11.744631</td><td>0.0009078672</td><td>1037.6113</td><td>1195.9197</td><td>0.975945</td><td>0.40256247</td><td>2.0076151e-05</td><td>1139</td><td>56032.16</td><td>0.00026220863</td><td>10.628906</td><td>0.0011966398</td><td>468.2271</td><td>907.32074</td><td>0.9711551</td><td>0.34805307</td><td>6.2117997e-06</td><td>669</td><td>0</td><td>-1.0</td><td>-1.0</td><td>-1.0</td><td>15.133999824523926</td><td>0.04600000008940697</td><td>35.400001525878906</td><td>2</td><td>14.390000343322754</td><td>0.06400000303983688</td><td>29.0</td><td>2</td><td>13.409000396728516</td><td>0.041999999433755875</td><td>35.29999923706055</td><td>2</td><td>0.16199284161573868</td><td>2RXS J010226.9-003911</td><td>15.612499999999997</td><td>-0.6531399999999999</td><td>1.8473322e-12</td><td>3.7126652e-13</td><td>12.279773118841877</td><td>-1</td><td>-1.0</td><td>-1.0</td><td>-1.0</td><td>-1.0</td><td>-1.0</td><td>-1.0</td><td>-1.0</td><td>-1.0</td><td>-1.0</td><td>-1.0</td><td>1</td><td>Gaia DR2 2536143867205037952</td><td>15.60965883886041</td><td>-0.6512584325478358</td><td>-0.19105775654315948</td><td>103.29010009765625</td><td>-0.2517366409301758</td><td>16.605432510375977</td><td>-0.21276824176311493</td><td>74.35389709472656</td><td>16.383913040161133</td><td>142.18832397460938</td><td>16.40179443359375</td><td>36.994937896728516</td><td>15.957229614257812</td><td>50.742530822753906</td><td>0.01289144743243557</td></tr>\n",
       "<tr><td>013418.19+001536.7</td><td>23.57579975544479</td><td>0.26019677495192683</td><td>7847</td><td>57012</td><td>738</td><td>QSO</td><td>QSO</td><td>1</td><td>0.39617047942514216</td><td>0</td><td>-1.0</td><td>-1</td><td>-1</td><td>-1</td><td>101414117</td><td>-1.0</td><td>0</td><td>0</td><td>-1.0</td><td>0</td><td>0.4</td><td>1</td><td>-1.0</td><td>0.4017849862575531</td><td>1</td><td>0.4</td><td>DR7QV_SCH</td><td>0.4010983407497406</td><td>0</td><td>1237657071157444676</td><td>0.4013683652265531</td><td>0</td><td>475578.8674256668</td><td>0.4019531112338002</td><td>0</td><td>10594.085953388256</td><td>0.4010864083080461</td><td>0</td><td>3296.8619284314104</td><td>0.39991620786594595</td><td>0</td><td>4485.194068716644</td><td>-1.0</td><td>7682</td><td>0.0</td><td>-1.0</td><td>7682</td><td>0.0</td><td>-1.0</td><td>7682</td><td>0.0</td><td>0.40136838</td><td>-1.0 .. -1.0</td><td>-1.0 .. -1.0</td><td>-1.0 .. -1.0</td><td>-1.0</td><td>-1.0</td><td>-1.0</td><td>-1.0</td><td>-1.0</td><td>-1.0</td><td>-1.0</td><td>-1.0</td><td>-1.0</td><td>0</td><td>0</td><td>1073741824</td><td>25165824</td><td>0</td><td>0</td><td>1</td><td>1</td><td>2</td><td>400 .. -1</td><td>51820 .. -1</td><td>512 .. -1</td><td>1 .. -1</td><td>2</td><td>2700</td><td>301</td><td>4</td><td>23</td><td>68</td><td>5400.0</td><td>0.0</td><td>-47.2706413269043</td><td>38.959129333496094</td><td>eboss2</td><td>16324</td><td>16.28030014038086</td><td>157.16405 .. 273.8631</td><td>0.1780158430337906 .. 0.034108348190784454</td><td>17.009115 .. 16.406158</td><td>0.01637348346412182 .. 0.021466147154569626</td><td>0.11689715 .. 0.034829233</td><td>-25.373421706360954</td><td>50.009456634521484</td><td>1</td><td>95.93614959716797</td><td>1.8823149269679738</td><td>115.025390625</td><td>3.829191543614266</td><td>0</td><td>-1.0</td><td>-1.0</td><td>-1.0</td><td>-1.0</td><td>-1.0</td><td>-1.0</td><td>-1.0</td><td>-1.0</td><td>16975.867</td><td>0.0041349195</td><td>11.92542</td><td>0.0009946238</td><td>516.27045</td><td>1091.605</td><td>0.97381085</td><td>0.08652464</td><td>5.096927e-06</td><td>1033</td><td>44590.555</td><td>0.00028779727</td><td>10.876893</td><td>0.0014352847</td><td>265.67688</td><td>756.4604</td><td>0.96765286</td><td>0.06331707</td><td>1.420744e-06</td><td>528</td><td>0</td><td>-1.0</td><td>-1.0</td><td>-1.0</td><td>15.61299991607666</td><td>0.05900000035762787</td><td>24.399999618530273</td><td>2</td><td>14.769000053405762</td><td>0.04699999839067459</td><td>21.899999618530273</td><td>2</td><td>13.552000045776367</td><td>0.04100000113248825</td><td>33.20000076293945</td><td>2</td><td>0.12376257773348284</td><td>2RXS J013418.2+001546</td><td>23.575889999999998</td><td>0.26292999999999994</td><td>2.515341e-12</td><td>3.5474922e-13</td><td>9.844971987348055</td><td>207474201470001</td><td>23.5757897352152</td><td>0.260188996460867</td><td>5.94201e-13</td><td>1.0422073e-14</td><td>4.65402e-13</td><td>8.3519177e-14</td><td>1.05786e-12</td><td>1.2274e-13</td><td>inf</td><td>0.045665805402758664</td><td>1</td><td>Gaia DR2 2509982328052020608</td><td>23.57579927724975</td><td>0.2601978839989075</td><td>0.1068800836801529</td><td>77.86155700683594</td><td>-0.27249327301979065</td><td>20.349552154541016</td><td>0.11037295311689377</td><td>86.22701263427734</td><td>16.51420783996582</td><td>262.9340515136719</td><td>16.620115280151367</td><td>75.30248260498047</td><td>16.106672286987305</td><td>87.97689056396484</td><td>0.004347886473984376</td></tr>\n",
       "<tr><td>014017.06-005003.0</td><td>25.071100304466196</td><td>-0.8341749905931891</td><td>7845</td><td>56980</td><td>742</td><td>QSO</td><td>QSO</td><td>1</td><td>0.3283788734253952</td><td>0</td><td>-1.0</td><td>-1</td><td>-1</td><td>-1</td><td>77898219</td><td>-1.0</td><td>0</td><td>0</td><td>-1.0</td><td>0</td><td>0.3344</td><td>1</td><td>-1.0</td><td>0.3345530033111572</td><td>1</td><td>0.3344</td><td>DR7QV_SCH</td><td>0.3344068229198456</td><td>0</td><td>1237663783134625892</td><td>0.33457866762967764</td><td>0</td><td>682450.4521208673</td><td>0.3331077920177363</td><td>0</td><td>7547.480321931909</td><td>0.3346013616460448</td><td>0</td><td>3331.0552987277033</td><td>0.3340834725147468</td><td>0</td><td>5030.424351514391</td><td>-1.0</td><td>7682</td><td>0.0</td><td>-1.0</td><td>7682</td><td>0.0</td><td>-1.0</td><td>7682</td><td>0.0</td><td>0.33457866</td><td>-1.0 .. -1.0</td><td>-1.0 .. -1.0</td><td>-1.0 .. -1.0</td><td>-1.0</td><td>-1.0</td><td>-1.0</td><td>-1.0</td><td>-1.0</td><td>-1.0</td><td>-1.0</td><td>-1.0</td><td>-1.0</td><td>0</td><td>0</td><td>1073741824</td><td>8388608</td><td>0</td><td>0</td><td>1</td><td>1</td><td>2</td><td>401 .. -1</td><td>51788 .. -1</td><td>247 .. -1</td><td>1 .. -1</td><td>2</td><td>4263</td><td>301</td><td>2</td><td>283</td><td>100</td><td>5400.0</td><td>0.0</td><td>-14.889355659484863</td><td>296.1247253417969</td><td>eboss2</td><td>16322</td><td>18.582300186157227</td><td>347.4035 .. 514.81573</td><td>0.021283898502588272 .. 0.01808144710958004</td><td>16.147915 .. 15.720868</td><td>0.021422216668725014 .. 0.01568390242755413</td><td>0.12954168 .. 0.038596638</td><td>-25.476894574320685</td><td>58.552974700927734</td><td>1</td><td>358.1800537109375</td><td>0.2910385834095745</td><td>383.7320251464844</td><td>0.04971044873453529</td><td>0</td><td>-1.0</td><td>-1.0</td><td>-1.0</td><td>-1.0</td><td>-1.0</td><td>-1.0</td><td>-1.0</td><td>-1.0</td><td>17666.04</td><td>0.0049731224</td><td>11.882152</td><td>0.0008715063</td><td>250.54425</td><td>1245.8157</td><td>0.97373176</td><td>0.39557308</td><td>2.2393868e-05</td><td>1030</td><td>44631.56</td><td>0.0003597251</td><td>10.875895</td><td>0.0012826166</td><td>258.1929</td><td>846.50085</td><td>0.96754986</td><td>0.5622896</td><td>1.2598761e-05</td><td>524</td><td>0</td><td>-1.0</td><td>-1.0</td><td>-1.0</td><td>15.345999717712402</td><td>0.0430000014603138</td><td>29.100000381469727</td><td>2</td><td>14.697999954223633</td><td>0.07199999690055847</td><td>20.399999618530273</td><td>2</td><td>13.850000381469727</td><td>0.05299999937415123</td><td>26.100000381469727</td><td>2</td><td>0.13077675835854408</td><td>2RXS J014016.8-005001</td><td>25.070309999999996</td><td>-0.8337099999999998</td><td>4.8450935e-12</td><td>6.370264e-13</td><td>3.300760459293313</td><td>207444503010001</td><td>25.07110294728</td><td>-0.83414947649946</td><td>2.608778e-12</td><td>3.0122573e-15</td><td>2.70314e-12</td><td>1.1956643e-14</td><td>5.29789e-12</td><td>1.77432e-14</td><td>inf</td><td>0.09234206757631737</td><td>1</td><td>Gaia DR2 2508952772851444736</td><td>25.071116077482394</td><td>-0.8341742362634471</td><td>-0.06941497325897217</td><td>83.15758514404297</td><td>-0.13561803102493286</td><td>67.95741271972656</td><td>-0.33999964594841003</td><td>110.7359619140625</td><td>15.959449768066406</td><td>339.57745361328125</td><td>16.007314682006836</td><td>121.77496337890625</td><td>15.564071655273438</td><td>135.9894256591797</td><td>0.05684174535380286</td></tr>\n",
       "<tr><td>024651.91-005930.9</td><td>41.71630371674887</td><td>-0.9919378618888345</td><td>7822</td><td>57041</td><td>320</td><td>QSO</td><td>QSO</td><td>1</td><td>0.4686764479759129</td><td>0</td><td>-1.0</td><td>-1</td><td>-1</td><td>-1</td><td>72684772</td><td>-1.0</td><td>0</td><td>0</td><td>-1.0</td><td>0</td><td>0.4678</td><td>1</td><td>0.468725</td><td>0.4687179923057556</td><td>1</td><td>0.4679448902606964</td><td>PIPE</td><td>0.4679448902606964</td><td>0</td><td>1237657584950902794</td><td>0.4683572697930035</td><td>0</td><td>412887.73762642767</td><td>0.4685468070661045</td><td>0</td><td>75035.12346461673</td><td>0.46819290976607264</td><td>0</td><td>34263.207105676964</td><td>0.4666004356877085</td><td>0</td><td>10654.495867474521</td><td>-1.0</td><td>7682</td><td>0.0</td><td>-1.0</td><td>7682</td><td>0.0</td><td>-1.0</td><td>7682</td><td>0.0</td><td>0.46835726</td><td>-1.0 .. -1.0</td><td>-1.0 .. -1.0</td><td>-1.0 .. -1.0</td><td>-1.0</td><td>-1.0</td><td>-1.0</td><td>-1.0</td><td>-1.0</td><td>-1.0</td><td>-1.0</td><td>-1.0</td><td>-1.0</td><td>0</td><td>0</td><td>1073741824</td><td>8388608</td><td>0</td><td>0</td><td>1</td><td>1</td><td>2</td><td>409 .. -1</td><td>51871 .. -1</td><td>213 .. -1</td><td>1 .. -1</td><td>2</td><td>2820</td><td>301</td><td>1</td><td>145</td><td>10</td><td>5400.0</td><td>0.0</td><td>-57.87290573120117</td><td>-169.4900665283203</td><td>eboss2</td><td>16282</td><td>20.38960075378418</td><td>120.63793 .. 219.12057</td><td>0.2089841663837433 .. 0.05533482879400253</td><td>17.29629 .. 16.64828</td><td>0.019687136635184288 .. 0.02106356993317604</td><td>0.1402202 .. 0.041778278</td><td>-25.725004358331088</td><td>57.86696243286133</td><td>1</td><td>62.7867431640625</td><td>4.481208022185927</td><td>87.01564025878906</td><td>0.03811987568404494</td><td>0</td><td>-1.0</td><td>-1.0</td><td>-1.0</td><td>-1.0</td><td>-1.0</td><td>-1.0</td><td>-1.0</td><td>-1.0</td><td>7963.353</td><td>0.0043088137</td><td>12.74726</td><td>0.0020770621</td><td>138.73428</td><td>522.72687</td><td>0.9571168</td><td>0.837406</td><td>0.000105155785</td><td>424</td><td>22658.896</td><td>0.00024647167</td><td>11.611903</td><td>0.003052123</td><td>49.642086</td><td>355.73145</td><td>0.9623772</td><td>2.296415</td><td>0.00010134652</td><td>353</td><td>0</td><td>-1.0</td><td>-1.0</td><td>-1.0</td><td>15.692000389099121</td><td>0.06599999964237213</td><td>19.100000381469727</td><td>2</td><td>15.027999877929688</td><td>0.0949999988079071</td><td>15.600000381469727</td><td>2</td><td>14.263999938964844</td><td>0.07199999690055847</td><td>16.600000381469727</td><td>2</td><td>0.28445362181215267</td><td>2RXS J024651.6-005936</td><td>41.71509999999999</td><td>-0.9935099999999999</td><td>2.815537e-12</td><td>1.1900243e-12</td><td>7.1277430176485606</td><td>204023201010001</td><td>41.716302784396</td><td>-0.991953003142</td><td>4.64225e-13</td><td>6.5026093e-15</td><td>3.1085e-13</td><td>2.3392404e-14</td><td>7.7443e-13</td><td>3.5162e-14</td><td>inf</td><td>0.054611723386859184</td><td>1</td><td>Gaia DR2 2497642401679100160</td><td>41.7163141945206</td><td>-0.9919441511093483</td><td>0.02578195556998253</td><td>151.11480712890625</td><td>0.03550180420279503</td><td>54.99504470825195</td><td>-0.11850769817829132</td><td>55.06047058105469</td><td>16.68439292907715</td><td>487.47021484375</td><td>16.816938400268555</td><td>127.26428985595703</td><td>16.297534942626953</td><td>226.8236541748047</td><td>0.04398856678643995</td></tr>\n",
       "<tr><td>074906.50+451033.8</td><td>117.2771165438226</td><td>45.17608026050745</td><td>8276</td><td>57067</td><td>795</td><td>QSO</td><td>QSO</td><td>1</td><td>0.18974882519128355</td><td>0</td><td>-1.0</td><td>-1</td><td>-1</td><td>-1</td><td>463325002</td><td>-1.0</td><td>0</td><td>0</td><td>-1.0</td><td>0</td><td>0.1921</td><td>1</td><td>0.192302</td><td>0.19230200350284576</td><td>1</td><td>0.19217707216739655</td><td>PIPE</td><td>0.19217707216739655</td><td>0</td><td>1237663546898317389</td><td>0.19226176816743326</td><td>0</td><td>1201910.022444724</td><td>0.19254776604260426</td><td>0</td><td>51228.734045609905</td><td>0.1926226083965228</td><td>0</td><td>13533.847655059326</td><td>-1.0</td><td>7682</td><td>0.0</td><td>-1.0</td><td>7682</td><td>0.0</td><td>-1.0</td><td>7682</td><td>0.0</td><td>-1.0</td><td>7682</td><td>0.0</td><td>0.19226177</td><td>-1.0 .. -1.0</td><td>-1.0 .. -1.0</td><td>-1.0 .. -1.0</td><td>-1.0</td><td>-1.0</td><td>-1.0</td><td>-1.0</td><td>-1.0</td><td>-1.0</td><td>-1.0</td><td>-1.0</td><td>-1.0</td><td>0</td><td>0</td><td>1073741824</td><td>2097152</td><td>0</td><td>0</td><td>1</td><td>1</td><td>2</td><td>1736 .. -1</td><td>53052 .. -1</td><td>620 .. -1</td><td>1 .. -1</td><td>2</td><td>4208</td><td>301</td><td>2</td><td>83</td><td>77</td><td>5400.0</td><td>0.0</td><td>11.841723442077637</td><td>256.2298583984375</td><td>eboss5</td><td>16669</td><td>12.837300300598145</td><td>189.40749 .. 209.16368</td><td>0.20067843794822693 .. 0.037135202437639236</td><td>16.806507 .. 16.69877</td><td>0.012796062044799328 .. 0.02693607285618782</td><td>0.18752216 .. 0.05587179</td><td>-23.858354824134963</td><td>59.74310302734375</td><td>1</td><td>178.27975463867188</td><td>0.06654248840842159</td><td>156.91571044921875</td><td>0.10073798072119515</td><td>0</td><td>-1.0</td><td>-1.0</td><td>-1.0</td><td>-1.0</td><td>-1.0</td><td>-1.0</td><td>-1.0</td><td>-1.0</td><td>17015.08</td><td>0.004237952</td><td>11.922915</td><td>0.0009801945</td><td>278.50534</td><td>1107.6741</td><td>0.9726475</td><td>0.21741493</td><td>1.2777365e-05</td><td>978</td><td>42375.777</td><td>0.00039927574</td><td>10.932206</td><td>0.0012822425</td><td>153.30333</td><td>846.7479</td><td>0.9692971</td><td>-1.9894594</td><td>-4.694839e-05</td><td>592</td><td>1</td><td>79.45999908447266</td><td>589.26708984375</td><td>1.4106299549748296</td><td>15.324999809265137</td><td>0.04699999839067459</td><td>25.899999618530273</td><td>2</td><td>14.359999656677246</td><td>0.052000001072883606</td><td>28.799999237060547</td><td>2</td><td>13.211000442504883</td><td>0.029999999329447746</td><td>47.0</td><td>2</td><td>0.12524758350669865</td><td>2RXS J074906.5+451039</td><td>117.27729999999998</td><td>45.177589999999995</td><td>2.801815e-12</td><td>4.5549355e-13</td><td>5.454965315313437</td><td>-1</td><td>-1.0</td><td>-1.0</td><td>-1.0</td><td>-1.0</td><td>-1.0</td><td>-1.0</td><td>-1.0</td><td>-1.0</td><td>-1.0</td><td>-1.0</td><td>1</td><td>Gaia DR2 926435994915623552</td><td>117.27711324394926</td><td>45.176075441017815</td><td>-0.20707975327968597</td><td>143.29513549804688</td><td>-0.13082033395767212</td><td>76.0867691040039</td><td>-0.1514076292514801</td><td>97.96766662597656</td><td>16.247900009155273</td><td>97.97129821777344</td><td>16.282833099365234</td><td>27.053640365600586</td><td>15.84094524383545</td><td>39.50646209716797</td><td>0.019265415594807916</td></tr>\n",
       "<tr><td>075819.68+421935.1</td><td>119.58202695467176</td><td>42.32643265710156</td><td>3674</td><td>55182</td><td>998</td><td>UNK</td><td>UNK</td><td>-1</td><td>-1.0</td><td>0</td><td>-1.0</td><td>-1</td><td>-1</td><td>-1</td><td>447137074</td><td>0.211</td><td>3</td><td>3</td><td>-1.0</td><td>0</td><td>0.2113</td><td>1</td><td>-1.0</td><td>0.21160100400447845</td><td>1</td><td>0.211</td><td>VI</td><td>0.211249440908432</td><td>0</td><td>1237673310430494741</td><td>0.21130510641700948</td><td>0</td><td>934902.9732334018</td><td>0.2116358907465865</td><td>0</td><td>77640.60718836868</td><td>0.2107912713581117</td><td>0</td><td>21012.143577967363</td><td>-1.0</td><td>7682</td><td>0.0</td><td>-1.0</td><td>7682</td><td>0.0</td><td>-1.0</td><td>7682</td><td>0.0</td><td>-1.0</td><td>7682</td><td>0.0</td><td>0.21130511</td><td>-1.0 .. -1.0</td><td>-1.0 .. -1.0</td><td>-1.0 .. -1.0</td><td>-1.0</td><td>-1.0</td><td>-1.0</td><td>-1.0</td><td>-1.0</td><td>-1.0</td><td>-1.0</td><td>-1.0</td><td>-1.0</td><td>0</td><td>0</td><td>0</td><td>0</td><td>8796093022208</td><td>0</td><td>1</td><td>1</td><td>2</td><td>437 .. -1</td><td>51869 .. -1</td><td>222 .. -1</td><td>1 .. -1</td><td>2</td><td>6481</td><td>301</td><td>4</td><td>49</td><td>21</td><td>5400.0</td><td>0.0</td><td>301.75103759765625</td><td>3.5323777198791504</td><td>boss2</td><td>10107</td><td>15.890800476074219</td><td>213.83534 .. 240.92786</td><td>0.07392765581607819 .. 0.04398235306143761</td><td>16.6748 .. 16.545273</td><td>0.018674155697226524 .. 0.021487697958946228</td><td>0.22024643 .. 0.065621905</td><td>-24.162665338761023</td><td>49.35747528076172</td><td>1</td><td>146.51585388183594</td><td>0.07910561384336172</td><td>171.69992065429688</td><td>0.4220553733948291</td><td>0</td><td>-1.0</td><td>-1.0</td><td>-1.0</td><td>-1.0</td><td>-1.0</td><td>-1.0</td><td>-1.0</td><td>-1.0</td><td>24839.484</td><td>0.0039982707</td><td>11.512143</td><td>0.0006912667</td><td>1210.5023</td><td>1570.6472</td><td>0.98194534</td><td>24.274143</td><td>0.0009772393</td><td>1495</td><td>68239.414</td><td>0.00037056525</td><td>10.414911</td><td>0.0008265262</td><td>551.1969</td><td>1313.6135</td><td>0.98023474</td><td>-22.788395</td><td>-0.00033394707</td><td>1137</td><td>1</td><td>2.070000171661377</td><td>12.569151878356934</td><td>0.23601657394524334</td><td>15.487000465393066</td><td>0.04699999839067459</td><td>29.399999618530273</td><td>2</td><td>14.619000434875488</td><td>0.0560000017285347</td><td>33.20000076293945</td><td>2</td><td>13.38700008392334</td><td>0.032999999821186066</td><td>47.5</td><td>2</td><td>0.09306368197967653</td><td>2RXS J075819.4+421938</td><td>119.58123999999998</td><td>42.32731</td><td>3.9442325e-12</td><td>5.059227e-13</td><td>3.7898114059760966</td><td>-1</td><td>-1.0</td><td>-1.0</td><td>-1.0</td><td>-1.0</td><td>-1.0</td><td>-1.0</td><td>-1.0</td><td>-1.0</td><td>-1.0</td><td>-1.0</td><td>1</td><td>Gaia DR2 922550660124690048</td><td>119.58205441828206</td><td>42.32642099457825</td><td>-0.15003035962581635</td><td>114.53915405273438</td><td>-0.3770701289176941</td><td>49.73057174682617</td><td>-0.11996431648731232</td><td>56.48194885253906</td><td>16.467344284057617</td><td>253.37216186523438</td><td>16.496814727783203</td><td>61.08661651611328</td><td>16.089181900024414</td><td>66.96734619140625</td><td>0.08429564542648049</td></tr>\n",
       "<tr><td>104111.97+282805.1</td><td>160.29988707708605</td><td>28.468083727266908</td><td>10471</td><td>58132</td><td>364</td><td>QSO</td><td>QSO</td><td>1</td><td>0.21677339758923808</td><td>0</td><td>-1.0</td><td>-1</td><td>-1</td><td>-1</td><td>357058600</td><td>-1.0</td><td>0</td><td>0</td><td>-1.0</td><td>0</td><td>0.211</td><td>1</td><td>-1.0</td><td>0.21141299605369568</td><td>1</td><td>0.211</td><td>DR7QV_SCH</td><td>0.21093003451824188</td><td>0</td><td>1237667255080124453</td><td>0.2110620306390587</td><td>0</td><td>330662.31133999577</td><td>0.21129281265478017</td><td>0</td><td>25668.77335114927</td><td>0.21098502224861582</td><td>0</td><td>7559.900099150462</td><td>-1.0</td><td>7682</td><td>0.0</td><td>-1.0</td><td>7682</td><td>0.0</td><td>-1.0</td><td>7682</td><td>0.0</td><td>-1.0</td><td>7682</td><td>0.0</td><td>0.21106203</td><td>-1.0 .. -1.0</td><td>-1.0 .. -1.0</td><td>-1.0 .. -1.0</td><td>-1.0</td><td>-1.0</td><td>-1.0</td><td>-1.0</td><td>-1.0</td><td>-1.0</td><td>-1.0</td><td>-1.0</td><td>-1.0</td><td>0</td><td>0</td><td>1073741824</td><td>2097152</td><td>0</td><td>0</td><td>1</td><td>1</td><td>2</td><td>2356 .. -1</td><td>53786 .. -1</td><td>575 .. -1</td><td>1 .. -1</td><td>2</td><td>5071</td><td>301</td><td>5</td><td>303</td><td>37</td><td>5400.0</td><td>0.0</td><td>-75.36669158935547</td><td>-248.63644409179688</td><td>eboss25</td><td>17419</td><td>9.91349983215332</td><td>298.95132 .. 278.62793</td><td>0.03852168843150139 .. 0.0274038203060627</td><td>16.310999 .. 16.38743</td><td>0.018504228442907333 .. 0.023538999259471893</td><td>0.07325365 .. 0.021825751</td><td>-24.198158045492697</td><td>41.717567443847656</td><td>1</td><td>246.57774353027344</td><td>0.059523744648076395</td><td>215.8726043701172</td><td>0.0033653452626716267</td><td>0</td><td>-1.0</td><td>-1.0</td><td>-1.0</td><td>-1.0</td><td>-1.0</td><td>-1.0</td><td>-1.0</td><td>-1.0</td><td>17607.17</td><td>0.0039218627</td><td>11.8857765</td><td>0.0009846651</td><td>673.24</td><td>1102.645</td><td>0.9750541</td><td>0.5413457</td><td>3.0743944e-05</td><td>1093</td><td>46603.05</td><td>0.0003080571</td><td>10.828964</td><td>0.0013273772</td><td>447.50192</td><td>817.956</td><td>0.96899647</td><td>0.29262528</td><td>6.2793374e-06</td><td>580</td><td>0</td><td>-1.0</td><td>-1.0</td><td>-1.0</td><td>15.331999778747559</td><td>0.0560000017285347</td><td>23.200000762939453</td><td>2</td><td>14.394000053405762</td><td>0.04699999839067459</td><td>27.0</td><td>2</td><td>13.376999855041504</td><td>0.03700000047683716</td><td>37.599998474121094</td><td>2</td><td>0.06703529806192214</td><td>2RXS J104111.5+282811</td><td>160.29809999999998</td><td>28.469919999999995</td><td>3.3321455e-12</td><td>3.643036e-13</td><td>8.699688899427343</td><td>-1</td><td>-1.0</td><td>-1.0</td><td>-1.0</td><td>-1.0</td><td>-1.0</td><td>-1.0</td><td>-1.0</td><td>-1.0</td><td>-1.0</td><td>-1.0</td><td>1</td><td>Gaia DR2 734223800258211712</td><td>160.29987362768793</td><td>28.46809783941579</td><td>0.3418712019920349</td><td>63.70956802368164</td><td>0.022871065884828568</td><td>38.17957305908203</td><td>-0.10971425473690033</td><td>40.99135971069336</td><td>16.77465057373047</td><td>147.8855743408203</td><td>16.816394805908203</td><td>50.71958923339844</td><td>16.32992935180664</td><td>68.73575592041016</td><td>0.06627708823244623</td></tr>\n",
       "</table>"
      ],
      "text/plain": [
       "<Table length=7>\n",
       "    SDSS_NAME              RA         ...    SDSS2GAIA_SEP    \n",
       "     bytes18            float64       ...       float64       \n",
       "------------------ ------------------ ... --------------------\n",
       "010226.31-003904.5 15.609655487186668 ...  0.01289144743243557\n",
       "013418.19+001536.7  23.57579975544479 ... 0.004347886473984376\n",
       "014017.06-005003.0 25.071100304466196 ...  0.05684174535380286\n",
       "024651.91-005930.9  41.71630371674887 ...  0.04398856678643995\n",
       "074906.50+451033.8  117.2771165438226 ... 0.019265415594807916\n",
       "075819.68+421935.1 119.58202695467176 ...  0.08429564542648049\n",
       "104111.97+282805.1 160.29988707708605 ...  0.06627708823244623"
      ]
     },
     "execution_count": 58,
     "metadata": {},
     "output_type": "execute_result"
    }
   ],
   "source": [
    "dr16q[mask]"
   ]
  },
  {
   "cell_type": "code",
   "execution_count": 59,
   "id": "threatened-peninsula",
   "metadata": {},
   "outputs": [
    {
     "data": {
      "text/html": [
       "<i>Table length=7</i>\n",
       "<table id=\"table140037487232840\" class=\"table-striped table-bordered table-condensed\">\n",
       "<thead><tr><th>NSPEC_SDSS</th><th>NSPEC_BOSS</th><th>NSPEC</th></tr></thead>\n",
       "<thead><tr><th>int32</th><th>int32</th><th>int32</th></tr></thead>\n",
       "<tr><td>1</td><td>1</td><td>2</td></tr>\n",
       "<tr><td>1</td><td>1</td><td>2</td></tr>\n",
       "<tr><td>1</td><td>1</td><td>2</td></tr>\n",
       "<tr><td>1</td><td>1</td><td>2</td></tr>\n",
       "<tr><td>1</td><td>1</td><td>2</td></tr>\n",
       "<tr><td>1</td><td>1</td><td>2</td></tr>\n",
       "<tr><td>1</td><td>1</td><td>2</td></tr>\n",
       "</table>"
      ],
      "text/plain": [
       "<Table length=7>\n",
       "NSPEC_SDSS NSPEC_BOSS NSPEC\n",
       "  int32      int32    int32\n",
       "---------- ---------- -----\n",
       "         1          1     2\n",
       "         1          1     2\n",
       "         1          1     2\n",
       "         1          1     2\n",
       "         1          1     2\n",
       "         1          1     2\n",
       "         1          1     2"
      ]
     },
     "execution_count": 59,
     "metadata": {},
     "output_type": "execute_result"
    }
   ],
   "source": [
    "# checking the spec columns of the table above\n",
    "spec_cols = ['NSPEC_SDSS','NSPEC_BOSS','NSPEC']\n",
    "dr16q[mask][spec_cols]"
   ]
  },
  {
   "cell_type": "markdown",
   "id": "configured-executive",
   "metadata": {},
   "source": [
    "Looks like for the quasars which satisfy those constraints, they have one spectrum from SDSS and one from BOSS. But what about TDSS and eBOSS!?"
   ]
  },
  {
   "cell_type": "code",
   "execution_count": null,
   "id": "first-gabriel",
   "metadata": {},
   "outputs": [],
   "source": []
  }
 ],
 "metadata": {
  "kernelspec": {
   "display_name": "Python 3",
   "language": "python",
   "name": "python3"
  },
  "language_info": {
   "codemirror_mode": {
    "name": "ipython",
    "version": 3
   },
   "file_extension": ".py",
   "mimetype": "text/x-python",
   "name": "python",
   "nbconvert_exporter": "python",
   "pygments_lexer": "ipython3",
   "version": "3.6.10"
  }
 },
 "nbformat": 4,
 "nbformat_minor": 5
}
