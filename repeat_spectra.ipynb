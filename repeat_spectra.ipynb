{
 "cells": [
  {
   "cell_type": "code",
   "execution_count": 46,
   "id": "other-viking",
   "metadata": {},
   "outputs": [],
   "source": [
    "import pandas as pd\n",
    "import numpy as np\n",
    "import matplotlib.pyplot as plt"
   ]
  },
  {
   "cell_type": "code",
   "execution_count": 47,
   "id": "pregnant-first",
   "metadata": {},
   "outputs": [],
   "source": [
    "from astropy.table import Table"
   ]
  },
  {
   "cell_type": "code",
   "execution_count": 53,
   "id": "rational-aspect",
   "metadata": {},
   "outputs": [],
   "source": [
    "# DOWNLOAD THE FITS FILE FROM www.sdss.org/dr16/algorithms/qso_catalog/ AND PUT INTO THE DIRECTORY BELOW\n",
    "filepath = '/quirky_quasars/data/catalogues/DR16Q_v4.fits'\n",
    "# filepath = '/disk1/hrb/python/data/catalogues/qsos/dr16q/DR16Q_v4.fits' # Leave this commented out."
   ]
  },
  {
   "cell_type": "code",
   "execution_count": 54,
   "id": "fatal-tomorrow",
   "metadata": {},
   "outputs": [],
   "source": [
    "dr16q = Table.read(filepath)"
   ]
  },
  {
   "cell_type": "code",
   "execution_count": 55,
   "id": "norwegian-theorem",
   "metadata": {},
   "outputs": [
    {
     "data": {
      "text/html": [
       "<i>Table length=5</i>\n",
       "<table id=\"table140037510616792\" class=\"table-striped table-bordered table-condensed\">\n",
       "<thead><tr><th>SDSS_NAME</th><th>RA</th><th>DEC</th><th>PLATE</th><th>MJD</th><th>FIBERID</th><th>AUTOCLASS_PQN</th><th>AUTOCLASS_DR14Q</th><th>IS_QSO_QN</th><th>Z_QN</th><th>RANDOM_SELECT</th><th>Z_10K</th><th>Z_CONF_10K</th><th>PIPE_CORR_10K</th><th>IS_QSO_10K</th><th>THING_ID</th><th>Z_VI</th><th>Z_CONF</th><th>CLASS_PERSON</th><th>Z_DR12Q</th><th>IS_QSO_DR12Q</th><th>Z_DR7Q_SCH</th><th>IS_QSO_DR7Q</th><th>Z_DR6Q_HW</th><th>Z_DR7Q_HW</th><th>IS_QSO_FINAL</th><th>Z</th><th>SOURCE_Z</th><th>Z_PIPE</th><th>ZWARNING</th><th>OBJID</th><th>Z_PCA</th><th>ZWARN_PCA</th><th>DELTACHI2_PCA</th><th>Z_HALPHA</th><th>ZWARN_HALPHA</th><th>DELTACHI2_HALPHA</th><th>Z_HBETA</th><th>ZWARN_HBETA</th><th>DELTACHI2_HBETA</th><th>Z_MGII</th><th>ZWARN_MGII</th><th>DELTACHI2_MGII</th><th>Z_CIII</th><th>ZWARN_CIII</th><th>DELTACHI2_CIII</th><th>Z_CIV</th><th>ZWARN_CIV</th><th>DELTACHI2_CIV</th><th>Z_LYA</th><th>ZWARN_LYA</th><th>DELTACHI2_LYA</th><th>Z_LYAWG</th><th>Z_DLA [5]</th><th>NHI_DLA [5]</th><th>CONF_DLA [5]</th><th>BAL_PROB</th><th>BI_CIV</th><th>ERR_BI_CIV</th><th>AI_CIV</th><th>ERR_AI_CIV</th><th>BI_SIIV</th><th>ERR_BI_SIIV</th><th>AI_SIIV</th><th>ERR_AI_SIIV</th><th>BOSS_TARGET1</th><th>EBOSS_TARGET0</th><th>EBOSS_TARGET1</th><th>EBOSS_TARGET2</th><th>ANCILLARY_TARGET1</th><th>ANCILLARY_TARGET2</th><th>NSPEC_SDSS</th><th>NSPEC_BOSS</th><th>NSPEC</th><th>PLATE_DUPLICATE [74]</th><th>MJD_DUPLICATE [74]</th><th>FIBERID_DUPLICATE [74]</th><th>SPECTRO_DUPLICATE [74]</th><th>SKYVERSION</th><th>RUN_NUMBER</th><th>RERUN_NUMBER</th><th>CAMCOL_NUMBER</th><th>FIELD_NUMBER</th><th>ID_NUMBER</th><th>LAMBDA_EFF</th><th>ZOFFSET</th><th>XFOCAL</th><th>YFOCAL</th><th>CHUNK</th><th>TILE</th><th>PLATESN2</th><th>PSFFLUX [5]</th><th>PSFFLUX_IVAR [5]</th><th>PSFMAG [5]</th><th>PSFMAGERR [5]</th><th>EXTINCTION [5]</th><th>M_I</th><th>SN_MEDIAN_ALL</th><th>GALEX_MATCHED</th><th>FUV</th><th>FUV_IVAR</th><th>NUV</th><th>NUV_IVAR</th><th>UKIDSS_MATCHED</th><th>YFLUX</th><th>YFLUX_ERR</th><th>JFLUX</th><th>JFLUX_ERR</th><th>HFLUX</th><th>HFLUX_ERR</th><th>KFLUX</th><th>KFLUX_ERR</th><th>W1_FLUX</th><th>W1_FLUX_IVAR</th><th>W1_MAG</th><th>W1_MAG_ERR</th><th>W1_CHI2</th><th>W1_FLUX_SNR</th><th>W1_SRC_FRAC</th><th>W1_EXT_FLUX</th><th>W1_EXT_FRAC</th><th>W1_NPIX</th><th>W2_FLUX</th><th>W2_FLUX_IVAR</th><th>W2_MAG</th><th>W2_MAG_ERR</th><th>W2_CHI2</th><th>W2_FLUX_SNR</th><th>W2_SRC_FRAC</th><th>W2_EXT_FLUX</th><th>W2_EXT_FRAC</th><th>W2_NPIX</th><th>FIRST_MATCHED</th><th>FIRST_FLUX</th><th>FIRST_SNR</th><th>SDSS2FIRST_SEP</th><th>JMAG</th><th>JMAG_ERR</th><th>JSNR</th><th>JRDFLAG</th><th>HMAG</th><th>HMAG_ERR</th><th>HSNR</th><th>HRDFLAG</th><th>KMAG</th><th>KMAG_ERR</th><th>KSNR</th><th>KRDFLAG</th><th>SDSS2MASS_SEP</th><th>2RXS_ID</th><th>2RXS_RA</th><th>2RXS_DEC</th><th>2RXS_SRC_FLUX</th><th>2RXS_SRC_FLUX_ERR</th><th>SDSS2ROSAT_SEP</th><th>XMM_SRC_ID</th><th>XMM_RA</th><th>XMM_DEC</th><th>XMM_SOFT_FLUX</th><th>XMM_SOFT_FLUX_ERR</th><th>XMM_HARD_FLUX</th><th>XMM_HARD_FLUX_ERR</th><th>XMM_TOTAL_FLUX</th><th>XMM_TOTAL_FLUX_ERR</th><th>XMM_TOTAL_LUM</th><th>SDSS2XMM_SEP</th><th>GAIA_MATCHED</th><th>GAIA_DESIGNATION</th><th>GAIA_RA</th><th>GAIA_DEC</th><th>GAIA_PARALLAX</th><th>GAIA_PARALLAX_ERR</th><th>GAIA_PM_RA</th><th>GAIA_PM_RA_ERR</th><th>GAIA_PM_DEC</th><th>GAIA_PM_DEC_ERR</th><th>GAIA_G_MAG</th><th>GAIA_G_FLUX_SNR</th><th>GAIA_BP_MAG</th><th>GAIA_BP_FLUX_SNR</th><th>GAIA_RP_MAG</th><th>GAIA_RP_FLUX_SNR</th><th>SDSS2GAIA_SEP</th></tr></thead>\n",
       "<thead><tr><th>bytes18</th><th>float64</th><th>float64</th><th>int32</th><th>int32</th><th>int16</th><th>bytes6</th><th>bytes6</th><th>int16</th><th>float64</th><th>int16</th><th>float64</th><th>int16</th><th>int16</th><th>int16</th><th>int64</th><th>float64</th><th>int16</th><th>int16</th><th>float64</th><th>int16</th><th>float64</th><th>int16</th><th>float64</th><th>float64</th><th>int16</th><th>float64</th><th>bytes12</th><th>float64</th><th>int32</th><th>bytes19</th><th>float64</th><th>int64</th><th>float64</th><th>float64</th><th>int64</th><th>float64</th><th>float64</th><th>int64</th><th>float64</th><th>float64</th><th>int64</th><th>float64</th><th>float64</th><th>int64</th><th>float64</th><th>float64</th><th>int64</th><th>float64</th><th>float64</th><th>int64</th><th>float64</th><th>float32</th><th>float64</th><th>float64</th><th>float64</th><th>float32</th><th>float64</th><th>float64</th><th>float64</th><th>float64</th><th>float64</th><th>float64</th><th>float64</th><th>float64</th><th>int64</th><th>int64</th><th>int64</th><th>int64</th><th>int64</th><th>int64</th><th>int32</th><th>int32</th><th>int32</th><th>int32</th><th>int32</th><th>int16</th><th>int16</th><th>uint8</th><th>int32</th><th>bytes3</th><th>int32</th><th>int32</th><th>int32</th><th>float64</th><th>float64</th><th>float64</th><th>float64</th><th>bytes14</th><th>int32</th><th>float64</th><th>float32</th><th>float64</th><th>float32</th><th>float64</th><th>float32</th><th>float64</th><th>float64</th><th>int16</th><th>float64</th><th>float64</th><th>float64</th><th>float64</th><th>int16</th><th>float64</th><th>float64</th><th>float64</th><th>float64</th><th>float64</th><th>float64</th><th>float64</th><th>float64</th><th>float32</th><th>float32</th><th>float32</th><th>float32</th><th>float32</th><th>float32</th><th>float32</th><th>float32</th><th>float32</th><th>int16</th><th>float32</th><th>float32</th><th>float32</th><th>float32</th><th>float32</th><th>float32</th><th>float32</th><th>float32</th><th>float32</th><th>int16</th><th>int16</th><th>float64</th><th>float64</th><th>float64</th><th>float64</th><th>float64</th><th>float64</th><th>int32</th><th>float64</th><th>float64</th><th>float64</th><th>int32</th><th>float64</th><th>float64</th><th>float64</th><th>int32</th><th>float64</th><th>bytes21</th><th>float64</th><th>float64</th><th>float32</th><th>float32</th><th>float64</th><th>int64</th><th>float64</th><th>float64</th><th>float32</th><th>float32</th><th>float32</th><th>float32</th><th>float32</th><th>float32</th><th>float32</th><th>float64</th><th>int16</th><th>bytes28</th><th>float64</th><th>float64</th><th>float64</th><th>float64</th><th>float64</th><th>float64</th><th>float64</th><th>float64</th><th>float64</th><th>float64</th><th>float64</th><th>float64</th><th>float64</th><th>float64</th><th>float64</th></tr></thead>\n",
       "<tr><td>000000.15+353104.2</td><td>0.0006294989251500738</td><td>35.51784115297793</td><td>7750</td><td>58402</td><td>802</td><td>QSO</td><td>QSO</td><td>1</td><td>0.8441383104284588</td><td>0</td><td>-1.0</td><td>-1</td><td>-1</td><td>-1</td><td>405570842</td><td>-1.0</td><td>0</td><td>0</td><td>-1.0</td><td>0</td><td>-1.0</td><td>-1</td><td>-1.0</td><td>-1.0</td><td>1</td><td>0.8454347848892212</td><td>PIPE</td><td>0.8454347848892212</td><td>0</td><td>1237666185111273711</td><td>0.845751479344974</td><td>0</td><td>16996.66972831516</td><td>-1.0</td><td>7682</td><td>0.0</td><td>0.8436375149058963</td><td>0</td><td>156.43772375163678</td><td>0.8428504859071788</td><td>0</td><td>750.8834989041113</td><td>0.8940224387238764</td><td>2050</td><td>21.324610028391675</td><td>-1.0</td><td>7682</td><td>0.0</td><td>-1.0</td><td>7682</td><td>0.0</td><td>0.84575146</td><td>-1.0 .. -1.0</td><td>-1.0 .. -1.0</td><td>-1.0 .. -1.0</td><td>-1.0</td><td>-1.0</td><td>-1.0</td><td>-1.0</td><td>-1.0</td><td>-1.0</td><td>-1.0</td><td>-1.0</td><td>-1.0</td><td>0</td><td>0</td><td>1024</td><td>0</td><td>0</td><td>0</td><td>0</td><td>0</td><td>0</td><td>-1 .. -1</td><td>-1 .. -1</td><td>-1 .. -1</td><td>-1 .. -1</td><td>2</td><td>4822</td><td>301</td><td>4</td><td>530</td><td>239</td><td>5400.0</td><td>0.0</td><td>70.60620880126953</td><td>106.47489166259766</td><td>eboss1</td><td>16248</td><td>15.495100021362305</td><td>25.96386 .. 49.856724</td><td>2.8376424312591553 .. 0.5966070294380188</td><td>18.964045 .. 18.255451</td><td>0.024822812527418137 .. 0.028181565925478935</td><td>0.34375072 .. 0.10241971</td><td>-25.623294188753515</td><td>24.46896743774414</td><td>1</td><td>4.148557186126709</td><td>2.070126881708091</td><td>14.441863059997559</td><td>1.4100092136448676</td><td>0</td><td>-1.0</td><td>-1.0</td><td>-1.0</td><td>-1.0</td><td>-1.0</td><td>-1.0</td><td>-1.0</td><td>-1.0</td><td>1663.6448</td><td>0.0044392394</td><td>14.447349</td><td>0.009795113</td><td>4.2344327</td><td>110.84468</td><td>0.8391846</td><td>0.25162572</td><td>0.00015125153</td><td>31</td><td>4714.6587</td><td>0.000358848</td><td>13.316375</td><td>0.012156787</td><td>3.5578887</td><td>89.31112</td><td>0.85367125</td><td>0.06125217</td><td>1.29913e-05</td><td>36</td><td>0</td><td>-1.0</td><td>-1.0</td><td>-1.0</td><td>-1.0</td><td>-1.0</td><td>-1.0</td><td>-1</td><td>-1.0</td><td>-1.0</td><td>-1.0</td><td>-1</td><td>-1.0</td><td>-1.0</td><td>-1.0</td><td>-1</td><td>-1.0</td><td>-1</td><td>-1.0</td><td>-1.0</td><td>-1.0</td><td>-1.0</td><td>-1.0</td><td>-1</td><td>-1.0</td><td>-1.0</td><td>-1.0</td><td>-1.0</td><td>-1.0</td><td>-1.0</td><td>-1.0</td><td>-1.0</td><td>-1.0</td><td>-1.0</td><td>1</td><td>Gaia DR2 2875546163053982464</td><td>0.0006280500798165479</td><td>35.51784374457776</td><td>-0.020426884293556213</td><td>21.95555305480957</td><td>-0.08630888164043427</td><td>12.555686950683594</td><td>-0.027262281626462936</td><td>32.272003173828125</td><td>18.57209587097168</td><td>338.03125</td><td>18.79897689819336</td><td>36.917076110839844</td><td>18.126667022705078</td><td>48.053558349609375</td><td>0.010250241628794688</td></tr>\n",
       "<tr><td>000000.33+310325.3</td><td>0.0014145086271355467</td><td>31.05704783916694</td><td>7749</td><td>58073</td><td>660</td><td>QSO</td><td>QSO</td><td>1</td><td>2.026022667549055</td><td>0</td><td>-1.0</td><td>-1</td><td>-1</td><td>-1</td><td>376953805</td><td>-1.0</td><td>0</td><td>0</td><td>-1.0</td><td>0</td><td>-1.0</td><td>-1</td><td>-1.0</td><td>-1.0</td><td>1</td><td>2.035491466522217</td><td>PIPE</td><td>2.035491466522217</td><td>0</td><td>1237663234451309152</td><td>2.0344430019020106</td><td>0</td><td>522.7567574737077</td><td>-1.0</td><td>7682</td><td>0.0</td><td>-1.0</td><td>7682</td><td>0.0</td><td>2.0517068015079523</td><td>0</td><td>36.65111428584561</td><td>2.0140677564448497</td><td>0</td><td>17.77954054107221</td><td>2.0079091130528393</td><td>0</td><td>94.93493230811634</td><td>2.037936700312481</td><td>0</td><td>59.69074975107185</td><td>2.030835</td><td>-1.0 .. -1.0</td><td>-1.0 .. -1.0</td><td>-1.0 .. -1.0</td><td>0.9</td><td>0.0</td><td>0.0</td><td>143.46597290039062</td><td>6.538216590881348</td><td>0.0</td><td>0.0</td><td>0.0</td><td>0.0</td><td>0</td><td>0</td><td>1024</td><td>0</td><td>0</td><td>0</td><td>0</td><td>0</td><td>0</td><td>-1 .. -1</td><td>-1 .. -1</td><td>-1 .. -1</td><td>-1 .. -1</td><td>2</td><td>4135</td><td>301</td><td>4</td><td>264</td><td>608</td><td>5400.0</td><td>0.0</td><td>-88.13436889648438</td><td>15.417671203613281</td><td>eboss1</td><td>16245</td><td>13.633299827575684</td><td>1.455544 .. 4.1010404</td><td>28.096485137939453 .. 1.7968083620071411</td><td>22.08253 .. 20.934025</td><td>0.13819186389446259 .. 0.18577812612056732</td><td>0.19886895 .. 0.059252534</td><td>-24.53857663984803</td><td>2.288592576980591</td><td>1</td><td>0.2793227732181549</td><td>107.3597961873109</td><td>0.16517719626426697</td><td>210.68806861684362</td><td>0</td><td>-1.0</td><td>-1.0</td><td>-1.0</td><td>-1.0</td><td>-1.0</td><td>-1.0</td><td>-1.0</td><td>-1.0</td><td>126.41466</td><td>0.005014072</td><td>17.245506</td><td>0.12129184</td><td>0.611314</td><td>8.951437</td><td>0.8435239</td><td>0.004989492</td><td>3.9469247e-05</td><td>33</td><td>267.47</td><td>0.0003521512</td><td>16.431812</td><td>0.216314</td><td>1.0426483</td><td>5.0192595</td><td>0.855141</td><td>-0.031017762</td><td>-0.00011596725</td><td>35</td><td>0</td><td>-1.0</td><td>-1.0</td><td>-1.0</td><td>-1.0</td><td>-1.0</td><td>-1.0</td><td>-1</td><td>-1.0</td><td>-1.0</td><td>-1.0</td><td>-1</td><td>-1.0</td><td>-1.0</td><td>-1.0</td><td>-1</td><td>-1.0</td><td>-1</td><td>-1.0</td><td>-1.0</td><td>-1.0</td><td>-1.0</td><td>-1.0</td><td>-1</td><td>-1.0</td><td>-1.0</td><td>-1.0</td><td>-1.0</td><td>-1.0</td><td>-1.0</td><td>-1.0</td><td>-1.0</td><td>-1.0</td><td>-1.0</td><td>0</td><td>-1</td><td>-1.0</td><td>-1.0</td><td>-1.0</td><td>-1.0</td><td>-1.0</td><td>-1.0</td><td>-1.0</td><td>-1.0</td><td>-1.0</td><td>-1.0</td><td>-1.0</td><td>-1.0</td><td>-1.0</td><td>-1.0</td><td>-1.0</td></tr>\n",
       "<tr><td>000000.36+070350.8</td><td>0.0015353689425410266</td><td>7.064129305528049</td><td>11279</td><td>58449</td><td>978</td><td>QSO</td><td>QSO</td><td>1</td><td>1.565546678922586</td><td>0</td><td>-1.0</td><td>-1</td><td>-1</td><td>-1</td><td>175096522</td><td>-1.0</td><td>0</td><td>0</td><td>-1.0</td><td>0</td><td>-1.0</td><td>-1</td><td>-1.0</td><td>-1.0</td><td>1</td><td>1.5742274522781372</td><td>PIPE</td><td>1.5742274522781372</td><td>0</td><td>1237669517441827491</td><td>1.5748324669819411</td><td>0</td><td>395.17112356819234</td><td>-1.0</td><td>7682</td><td>0.0</td><td>-1.0</td><td>7682</td><td>0.0</td><td>1.571394626776076</td><td>0</td><td>51.26856655958335</td><td>1.57383165321738</td><td>0</td><td>28.665405762936928</td><td>1.5893603661422095</td><td>0</td><td>121.69651782476126</td><td>-1.0</td><td>7682</td><td>0.0</td><td>1.5748324</td><td>-1.0 .. -1.0</td><td>-1.0 .. -1.0</td><td>-1.0 .. -1.0</td><td>0.0</td><td>0.0</td><td>0.0</td><td>0.0</td><td>0.0</td><td>0.0</td><td>0.0</td><td>0.0</td><td>0.0</td><td>0</td><td>0</td><td>1024</td><td>0</td><td>0</td><td>0</td><td>0</td><td>0</td><td>0</td><td>-1 .. -1</td><td>-1 .. -1</td><td>-1 .. -1</td><td>-1 .. -1</td><td>2</td><td>5598</td><td>301</td><td>3</td><td>115</td><td>675</td><td>5400.0</td><td>0.0</td><td>223.17718505859375</td><td>33.97584533691406</td><td>eboss26</td><td>17451</td><td>15.228899955749512</td><td>0.96423775 .. 1.4440194</td><td>26.673974990844727 .. 3.1541740894317627</td><td>22.517344 .. 21.88876</td><td>0.2093711793422699 .. 0.29565373063087463</td><td>0.2439438 .. 0.07268248</td><td>-23.570057379465844</td><td>1.4206629991531372</td><td>1</td><td>0.0</td><td>0.0</td><td>0.0</td><td>0.0</td><td>1</td><td>3.781623219692077e-32</td><td>3.522887509121285e-32</td><td>4.6802930589995313e-32</td><td>4.486788762565333e-32</td><td>5.673621050274889e-32</td><td>6.636885185780791e-32</td><td>1.8909267789050603e-31</td><td>6.076921407098508e-32</td><td>3.112474</td><td>0.0034322678</td><td>21.267235</td><td>5.9542627</td><td>0.33925283</td><td>0.18234603</td><td>0.8454622</td><td>-2.4947178e-10</td><td>0.0</td><td>34</td><td>167.85875</td><td>0.00025295082</td><td>16.93764</td><td>0.40668884</td><td>1.0788183</td><td>2.6696975</td><td>0.8543751</td><td>8.0944886e-08</td><td>0.0</td><td>34</td><td>0</td><td>-1.0</td><td>-1.0</td><td>-1.0</td><td>-1.0</td><td>-1.0</td><td>-1.0</td><td>-1</td><td>-1.0</td><td>-1.0</td><td>-1.0</td><td>-1</td><td>-1.0</td><td>-1.0</td><td>-1.0</td><td>-1</td><td>-1.0</td><td>-1</td><td>-1.0</td><td>-1.0</td><td>-1.0</td><td>-1.0</td><td>-1.0</td><td>-1</td><td>-1.0</td><td>-1.0</td><td>-1.0</td><td>-1.0</td><td>-1.0</td><td>-1.0</td><td>-1.0</td><td>-1.0</td><td>-1.0</td><td>-1.0</td><td>0</td><td>-1</td><td>-1.0</td><td>-1.0</td><td>-1.0</td><td>-1.0</td><td>-1.0</td><td>-1.0</td><td>-1.0</td><td>-1.0</td><td>-1.0</td><td>-1.0</td><td>-1.0</td><td>-1.0</td><td>-1.0</td><td>-1.0</td><td>-1.0</td></tr>\n",
       "<tr><td>000000.36+274356.2</td><td>0.0015264841092630377</td><td>27.73228339001279</td><td>7695</td><td>57654</td><td>565</td><td>QSO</td><td>QSO</td><td>1</td><td>1.7744081379526175</td><td>0</td><td>-1.0</td><td>-1</td><td>-1</td><td>-1</td><td>351857966</td><td>-1.0</td><td>0</td><td>0</td><td>-1.0</td><td>0</td><td>-1.0</td><td>-1</td><td>-1.0</td><td>-1.0</td><td>1</td><td>1.7705516815185547</td><td>PIPE</td><td>1.7705516815185547</td><td>0</td><td>1237663233378943459</td><td>1.7711350379809114</td><td>0</td><td>410.12555811197035</td><td>-1.0</td><td>7682</td><td>0.0</td><td>-1.0</td><td>7682</td><td>0.0</td><td>1.7702794429839241</td><td>0</td><td>21.87843562643343</td><td>1.7558669284907311</td><td>0</td><td>22.79849258331683</td><td>1.7673499491247613</td><td>0</td><td>94.47670636372106</td><td>-1.0</td><td>7682</td><td>0.0</td><td>1.7716389</td><td>-1.0 .. -1.0</td><td>-1.0 .. -1.0</td><td>-1.0 .. -1.0</td><td>0.0</td><td>0.0</td><td>0.0</td><td>0.0</td><td>0.0</td><td>0.0</td><td>0.0</td><td>0.0</td><td>0.0</td><td>0</td><td>0</td><td>1024</td><td>0</td><td>0</td><td>0</td><td>0</td><td>0</td><td>0</td><td>-1 .. -1</td><td>-1 .. -1</td><td>-1 .. -1</td><td>-1 .. -1</td><td>2</td><td>4135</td><td>301</td><td>2</td><td>285</td><td>483</td><td>5400.0</td><td>0.0</td><td>-215.65855407714844</td><td>78.34519958496094</td><td>eboss1</td><td>16242</td><td>12.403200149536133</td><td>1.1337416 .. 1.2490184</td><td>24.20319938659668 .. 2.469827890396118</td><td>22.347525 .. 21.994589</td><td>0.18898065388202667 .. 0.35673806071281433</td><td>0.26307732 .. 0.07838327</td><td>-23.85126145027972</td><td>1.0090569257736206</td><td>1</td><td>0.0</td><td>0.0</td><td>0.0</td><td>0.0</td><td>0</td><td>-1.0</td><td>-1.0</td><td>-1.0</td><td>-1.0</td><td>-1.0</td><td>-1.0</td><td>-1.0</td><td>-1.0</td><td>101.44838</td><td>0.0057541076</td><td>17.484386</td><td>0.14108804</td><td>0.63978136</td><td>7.6954517</td><td>0.8436933</td><td>0.07803405</td><td>0.0007692</td><td>33</td><td>154.28232</td><td>0.0003330853</td><td>17.02921</td><td>0.38559413</td><td>0.5723123</td><td>2.815749</td><td>0.85512805</td><td>-0.5261928</td><td>-0.003410584</td><td>35</td><td>0</td><td>-1.0</td><td>-1.0</td><td>-1.0</td><td>-1.0</td><td>-1.0</td><td>-1.0</td><td>-1</td><td>-1.0</td><td>-1.0</td><td>-1.0</td><td>-1</td><td>-1.0</td><td>-1.0</td><td>-1.0</td><td>-1</td><td>-1.0</td><td>-1</td><td>-1.0</td><td>-1.0</td><td>-1.0</td><td>-1.0</td><td>-1.0</td><td>-1</td><td>-1.0</td><td>-1.0</td><td>-1.0</td><td>-1.0</td><td>-1.0</td><td>-1.0</td><td>-1.0</td><td>-1.0</td><td>-1.0</td><td>-1.0</td><td>0</td><td>-1</td><td>-1.0</td><td>-1.0</td><td>-1.0</td><td>-1.0</td><td>-1.0</td><td>-1.0</td><td>-1.0</td><td>-1.0</td><td>-1.0</td><td>-1.0</td><td>-1.0</td><td>-1.0</td><td>-1.0</td><td>-1.0</td><td>-1.0</td></tr>\n",
       "<tr><td>000000.45+092308.2</td><td>0.0019139323820809295</td><td>9.385636911648206</td><td>11277</td><td>58450</td><td>705</td><td>QSO</td><td>QSO</td><td>1</td><td>2.033732811422727</td><td>0</td><td>-1.0</td><td>-1</td><td>-1</td><td>-1</td><td>196571343</td><td>-1.0</td><td>0</td><td>0</td><td>-1.0</td><td>0</td><td>-1.0</td><td>-1</td><td>-1.0</td><td>-1.0</td><td>1</td><td>2.024146318435669</td><td>PIPE</td><td>2.024146318435669</td><td>0</td><td>1237679318015606804</td><td>2.0259091237511564</td><td>0</td><td>26576.813852902626</td><td>-1.0</td><td>7682</td><td>0.0</td><td>-1.0</td><td>7682</td><td>0.0</td><td>2.036802201236187</td><td>0</td><td>712.5588206441782</td><td>2.0309983965987133</td><td>0</td><td>673.5819974202324</td><td>2.021040762631008</td><td>0</td><td>3658.945308889662</td><td>2.032103120491116</td><td>0</td><td>1380.504531362969</td><td>2.0266654</td><td>-1.0 .. -1.0</td><td>-1.0 .. -1.0</td><td>-1.0 .. -1.0</td><td>0.0</td><td>0.0</td><td>0.0</td><td>0.0</td><td>0.0</td><td>0.0</td><td>0.0</td><td>0.0</td><td>0.0</td><td>0</td><td>0</td><td>1024</td><td>0</td><td>0</td><td>0</td><td>0</td><td>0</td><td>0</td><td>-1 .. -1</td><td>-1 .. -1</td><td>-1 .. -1</td><td>-1 .. -1</td><td>2</td><td>7880</td><td>301</td><td>2</td><td>43</td><td>20</td><td>5400.0</td><td>0.0</td><td>-63.36301803588867</td><td>115.9906234741211</td><td>eboss26</td><td>17434</td><td>14.530900001525879</td><td>31.14695 .. 54.50869</td><td>1.7722076177597046 .. 0.8584942817687988</td><td>18.76644 .. 18.158636</td><td>0.026183877140283585 .. 0.021489674225449562</td><td>0.3726525 .. 0.111030936</td><td>-27.62001811657619</td><td>22.831876754760742</td><td>1</td><td>4.856250762939453</td><td>1.2267018486788392</td><td>8.22021198272705</td><td>1.5499775640933848</td><td>1</td><td>1.6171358539064507e-30</td><td>3.037724844085639e-32</td><td>1.8085208163107213e-30</td><td>3.663023774280976e-32</td><td>1.8053765099815937e-30</td><td>4.290846196973941e-32</td><td>1.744522766111841e-30</td><td>4.935802625324492e-32</td><td>756.07153</td><td>0.003366521</td><td>15.303593</td><td>0.024749745</td><td>1.280028</td><td>43.868576</td><td>0.92667514</td><td>0.114683196</td><td>0.00015168419</td><td>133</td><td>2430.9502</td><td>0.00026684027</td><td>14.03556</td><td>0.027341515</td><td>2.9761937</td><td>39.71017</td><td>0.93790966</td><td>0.009088497</td><td>3.740147e-06</td><td>133</td><td>0</td><td>-1.0</td><td>-1.0</td><td>-1.0</td><td>-1.0</td><td>-1.0</td><td>-1.0</td><td>-1</td><td>-1.0</td><td>-1.0</td><td>-1.0</td><td>-1</td><td>-1.0</td><td>-1.0</td><td>-1.0</td><td>-1</td><td>-1.0</td><td>-1</td><td>-1.0</td><td>-1.0</td><td>-1.0</td><td>-1.0</td><td>-1.0</td><td>-1</td><td>-1.0</td><td>-1.0</td><td>-1.0</td><td>-1.0</td><td>-1.0</td><td>-1.0</td><td>-1.0</td><td>-1.0</td><td>-1.0</td><td>-1.0</td><td>1</td><td>Gaia DR2 2747188660230483712</td><td>0.0019172973085235152</td><td>9.385655598551972</td><td>0.02837894856929779</td><td>19.791959762573242</td><td>-0.2945098578929901</td><td>5.826672077178955</td><td>-0.14840765297412872</td><td>35.20163345336914</td><td>18.343128204345703</td><td>318.29473876953125</td><td>18.520456314086914</td><td>56.96324920654297</td><td>17.896278381347656</td><td>73.99073791503906</td><td>0.06832625287474876</td></tr>\n",
       "</table>"
      ],
      "text/plain": [
       "<Table length=5>\n",
       "    SDSS_NAME                RA          ...    SDSS2GAIA_SEP    \n",
       "     bytes18              float64        ...       float64       \n",
       "------------------ --------------------- ... --------------------\n",
       "000000.15+353104.2 0.0006294989251500738 ... 0.010250241628794688\n",
       "000000.33+310325.3 0.0014145086271355467 ...                 -1.0\n",
       "000000.36+070350.8 0.0015353689425410266 ...                 -1.0\n",
       "000000.36+274356.2 0.0015264841092630377 ...                 -1.0\n",
       "000000.45+092308.2 0.0019139323820809295 ...  0.06832625287474876"
      ]
     },
     "execution_count": 55,
     "metadata": {},
     "output_type": "execute_result"
    }
   ],
   "source": [
    "# Let's look at the first 5 rows\n",
    "dr16q[:5]"
   ]
  },
  {
   "cell_type": "code",
   "execution_count": 56,
   "id": "governing-robertson",
   "metadata": {},
   "outputs": [
    {
     "data": {
      "text/plain": [
       "['SDSS_NAME',\n",
       " 'RA',\n",
       " 'DEC',\n",
       " 'PLATE',\n",
       " 'MJD',\n",
       " 'FIBERID',\n",
       " 'AUTOCLASS_PQN',\n",
       " 'AUTOCLASS_DR14Q',\n",
       " 'IS_QSO_QN',\n",
       " 'Z_QN',\n",
       " 'RANDOM_SELECT',\n",
       " 'Z_10K',\n",
       " 'Z_CONF_10K',\n",
       " 'PIPE_CORR_10K',\n",
       " 'IS_QSO_10K',\n",
       " 'THING_ID',\n",
       " 'Z_VI',\n",
       " 'Z_CONF',\n",
       " 'CLASS_PERSON',\n",
       " 'Z_DR12Q',\n",
       " 'IS_QSO_DR12Q',\n",
       " 'Z_DR7Q_SCH',\n",
       " 'IS_QSO_DR7Q',\n",
       " 'Z_DR6Q_HW',\n",
       " 'Z_DR7Q_HW',\n",
       " 'IS_QSO_FINAL',\n",
       " 'Z',\n",
       " 'SOURCE_Z',\n",
       " 'Z_PIPE',\n",
       " 'ZWARNING',\n",
       " 'OBJID',\n",
       " 'Z_PCA',\n",
       " 'ZWARN_PCA',\n",
       " 'DELTACHI2_PCA',\n",
       " 'Z_HALPHA',\n",
       " 'ZWARN_HALPHA',\n",
       " 'DELTACHI2_HALPHA',\n",
       " 'Z_HBETA',\n",
       " 'ZWARN_HBETA',\n",
       " 'DELTACHI2_HBETA',\n",
       " 'Z_MGII',\n",
       " 'ZWARN_MGII',\n",
       " 'DELTACHI2_MGII',\n",
       " 'Z_CIII',\n",
       " 'ZWARN_CIII',\n",
       " 'DELTACHI2_CIII',\n",
       " 'Z_CIV',\n",
       " 'ZWARN_CIV',\n",
       " 'DELTACHI2_CIV',\n",
       " 'Z_LYA',\n",
       " 'ZWARN_LYA',\n",
       " 'DELTACHI2_LYA',\n",
       " 'Z_LYAWG',\n",
       " 'Z_DLA',\n",
       " 'NHI_DLA',\n",
       " 'CONF_DLA',\n",
       " 'BAL_PROB',\n",
       " 'BI_CIV',\n",
       " 'ERR_BI_CIV',\n",
       " 'AI_CIV',\n",
       " 'ERR_AI_CIV',\n",
       " 'BI_SIIV',\n",
       " 'ERR_BI_SIIV',\n",
       " 'AI_SIIV',\n",
       " 'ERR_AI_SIIV',\n",
       " 'BOSS_TARGET1',\n",
       " 'EBOSS_TARGET0',\n",
       " 'EBOSS_TARGET1',\n",
       " 'EBOSS_TARGET2',\n",
       " 'ANCILLARY_TARGET1',\n",
       " 'ANCILLARY_TARGET2',\n",
       " 'NSPEC_SDSS',\n",
       " 'NSPEC_BOSS',\n",
       " 'NSPEC',\n",
       " 'PLATE_DUPLICATE',\n",
       " 'MJD_DUPLICATE',\n",
       " 'FIBERID_DUPLICATE',\n",
       " 'SPECTRO_DUPLICATE',\n",
       " 'SKYVERSION',\n",
       " 'RUN_NUMBER',\n",
       " 'RERUN_NUMBER',\n",
       " 'CAMCOL_NUMBER',\n",
       " 'FIELD_NUMBER',\n",
       " 'ID_NUMBER',\n",
       " 'LAMBDA_EFF',\n",
       " 'ZOFFSET',\n",
       " 'XFOCAL',\n",
       " 'YFOCAL',\n",
       " 'CHUNK',\n",
       " 'TILE',\n",
       " 'PLATESN2',\n",
       " 'PSFFLUX',\n",
       " 'PSFFLUX_IVAR',\n",
       " 'PSFMAG',\n",
       " 'PSFMAGERR',\n",
       " 'EXTINCTION',\n",
       " 'M_I',\n",
       " 'SN_MEDIAN_ALL',\n",
       " 'GALEX_MATCHED',\n",
       " 'FUV',\n",
       " 'FUV_IVAR',\n",
       " 'NUV',\n",
       " 'NUV_IVAR',\n",
       " 'UKIDSS_MATCHED',\n",
       " 'YFLUX',\n",
       " 'YFLUX_ERR',\n",
       " 'JFLUX',\n",
       " 'JFLUX_ERR',\n",
       " 'HFLUX',\n",
       " 'HFLUX_ERR',\n",
       " 'KFLUX',\n",
       " 'KFLUX_ERR',\n",
       " 'W1_FLUX',\n",
       " 'W1_FLUX_IVAR',\n",
       " 'W1_MAG',\n",
       " 'W1_MAG_ERR',\n",
       " 'W1_CHI2',\n",
       " 'W1_FLUX_SNR',\n",
       " 'W1_SRC_FRAC',\n",
       " 'W1_EXT_FLUX',\n",
       " 'W1_EXT_FRAC',\n",
       " 'W1_NPIX',\n",
       " 'W2_FLUX',\n",
       " 'W2_FLUX_IVAR',\n",
       " 'W2_MAG',\n",
       " 'W2_MAG_ERR',\n",
       " 'W2_CHI2',\n",
       " 'W2_FLUX_SNR',\n",
       " 'W2_SRC_FRAC',\n",
       " 'W2_EXT_FLUX',\n",
       " 'W2_EXT_FRAC',\n",
       " 'W2_NPIX',\n",
       " 'FIRST_MATCHED',\n",
       " 'FIRST_FLUX',\n",
       " 'FIRST_SNR',\n",
       " 'SDSS2FIRST_SEP',\n",
       " 'JMAG',\n",
       " 'JMAG_ERR',\n",
       " 'JSNR',\n",
       " 'JRDFLAG',\n",
       " 'HMAG',\n",
       " 'HMAG_ERR',\n",
       " 'HSNR',\n",
       " 'HRDFLAG',\n",
       " 'KMAG',\n",
       " 'KMAG_ERR',\n",
       " 'KSNR',\n",
       " 'KRDFLAG',\n",
       " 'SDSS2MASS_SEP',\n",
       " '2RXS_ID',\n",
       " '2RXS_RA',\n",
       " '2RXS_DEC',\n",
       " '2RXS_SRC_FLUX',\n",
       " '2RXS_SRC_FLUX_ERR',\n",
       " 'SDSS2ROSAT_SEP',\n",
       " 'XMM_SRC_ID',\n",
       " 'XMM_RA',\n",
       " 'XMM_DEC',\n",
       " 'XMM_SOFT_FLUX',\n",
       " 'XMM_SOFT_FLUX_ERR',\n",
       " 'XMM_HARD_FLUX',\n",
       " 'XMM_HARD_FLUX_ERR',\n",
       " 'XMM_TOTAL_FLUX',\n",
       " 'XMM_TOTAL_FLUX_ERR',\n",
       " 'XMM_TOTAL_LUM',\n",
       " 'SDSS2XMM_SEP',\n",
       " 'GAIA_MATCHED',\n",
       " 'GAIA_DESIGNATION',\n",
       " 'GAIA_RA',\n",
       " 'GAIA_DEC',\n",
       " 'GAIA_PARALLAX',\n",
       " 'GAIA_PARALLAX_ERR',\n",
       " 'GAIA_PM_RA',\n",
       " 'GAIA_PM_RA_ERR',\n",
       " 'GAIA_PM_DEC',\n",
       " 'GAIA_PM_DEC_ERR',\n",
       " 'GAIA_G_MAG',\n",
       " 'GAIA_G_FLUX_SNR',\n",
       " 'GAIA_BP_MAG',\n",
       " 'GAIA_BP_FLUX_SNR',\n",
       " 'GAIA_RP_MAG',\n",
       " 'GAIA_RP_FLUX_SNR',\n",
       " 'SDSS2GAIA_SEP']"
      ]
     },
     "execution_count": 56,
     "metadata": {},
     "output_type": "execute_result"
    }
   ],
   "source": [
    "# What columns are included in DR16Q? Crikey! That's a lot. The description of each of these \n",
    "# can be found at the bottom of the DR16Q paper: https://ui.adsabs.harvard.edu/abs/2020ApJS..250....8L/abstract\n",
    "list(dr16q.columns)"
   ]
  },
  {
   "cell_type": "code",
   "execution_count": 106,
   "id": "considerable-tunnel",
   "metadata": {},
   "outputs": [],
   "source": [
    "# Let's filter by g < 17, z < 0.5 and nspec > 1\n",
    "mask = (dr16q['PSFMAG'][:,1] < 17.5) &  (dr16q['Z'] < 0.5) & (dr16q['NSPEC'] > 2)"
   ]
  },
  {
   "cell_type": "code",
   "execution_count": 107,
   "id": "present-difficulty",
   "metadata": {},
   "outputs": [
    {
     "data": {
      "text/html": [
       "<i>Table length=3</i>\n",
       "<table id=\"table140037402599208\" class=\"table-striped table-bordered table-condensed\">\n",
       "<thead><tr><th>SDSS_NAME</th><th>RA</th><th>DEC</th><th>PLATE</th><th>MJD</th><th>FIBERID</th><th>AUTOCLASS_PQN</th><th>AUTOCLASS_DR14Q</th><th>IS_QSO_QN</th><th>Z_QN</th><th>RANDOM_SELECT</th><th>Z_10K</th><th>Z_CONF_10K</th><th>PIPE_CORR_10K</th><th>IS_QSO_10K</th><th>THING_ID</th><th>Z_VI</th><th>Z_CONF</th><th>CLASS_PERSON</th><th>Z_DR12Q</th><th>IS_QSO_DR12Q</th><th>Z_DR7Q_SCH</th><th>IS_QSO_DR7Q</th><th>Z_DR6Q_HW</th><th>Z_DR7Q_HW</th><th>IS_QSO_FINAL</th><th>Z</th><th>SOURCE_Z</th><th>Z_PIPE</th><th>ZWARNING</th><th>OBJID</th><th>Z_PCA</th><th>ZWARN_PCA</th><th>DELTACHI2_PCA</th><th>Z_HALPHA</th><th>ZWARN_HALPHA</th><th>DELTACHI2_HALPHA</th><th>Z_HBETA</th><th>ZWARN_HBETA</th><th>DELTACHI2_HBETA</th><th>Z_MGII</th><th>ZWARN_MGII</th><th>DELTACHI2_MGII</th><th>Z_CIII</th><th>ZWARN_CIII</th><th>DELTACHI2_CIII</th><th>Z_CIV</th><th>ZWARN_CIV</th><th>DELTACHI2_CIV</th><th>Z_LYA</th><th>ZWARN_LYA</th><th>DELTACHI2_LYA</th><th>Z_LYAWG</th><th>Z_DLA [5]</th><th>NHI_DLA [5]</th><th>CONF_DLA [5]</th><th>BAL_PROB</th><th>BI_CIV</th><th>ERR_BI_CIV</th><th>AI_CIV</th><th>ERR_AI_CIV</th><th>BI_SIIV</th><th>ERR_BI_SIIV</th><th>AI_SIIV</th><th>ERR_AI_SIIV</th><th>BOSS_TARGET1</th><th>EBOSS_TARGET0</th><th>EBOSS_TARGET1</th><th>EBOSS_TARGET2</th><th>ANCILLARY_TARGET1</th><th>ANCILLARY_TARGET2</th><th>NSPEC_SDSS</th><th>NSPEC_BOSS</th><th>NSPEC</th><th>PLATE_DUPLICATE [74]</th><th>MJD_DUPLICATE [74]</th><th>FIBERID_DUPLICATE [74]</th><th>SPECTRO_DUPLICATE [74]</th><th>SKYVERSION</th><th>RUN_NUMBER</th><th>RERUN_NUMBER</th><th>CAMCOL_NUMBER</th><th>FIELD_NUMBER</th><th>ID_NUMBER</th><th>LAMBDA_EFF</th><th>ZOFFSET</th><th>XFOCAL</th><th>YFOCAL</th><th>CHUNK</th><th>TILE</th><th>PLATESN2</th><th>PSFFLUX [5]</th><th>PSFFLUX_IVAR [5]</th><th>PSFMAG [5]</th><th>PSFMAGERR [5]</th><th>EXTINCTION [5]</th><th>M_I</th><th>SN_MEDIAN_ALL</th><th>GALEX_MATCHED</th><th>FUV</th><th>FUV_IVAR</th><th>NUV</th><th>NUV_IVAR</th><th>UKIDSS_MATCHED</th><th>YFLUX</th><th>YFLUX_ERR</th><th>JFLUX</th><th>JFLUX_ERR</th><th>HFLUX</th><th>HFLUX_ERR</th><th>KFLUX</th><th>KFLUX_ERR</th><th>W1_FLUX</th><th>W1_FLUX_IVAR</th><th>W1_MAG</th><th>W1_MAG_ERR</th><th>W1_CHI2</th><th>W1_FLUX_SNR</th><th>W1_SRC_FRAC</th><th>W1_EXT_FLUX</th><th>W1_EXT_FRAC</th><th>W1_NPIX</th><th>W2_FLUX</th><th>W2_FLUX_IVAR</th><th>W2_MAG</th><th>W2_MAG_ERR</th><th>W2_CHI2</th><th>W2_FLUX_SNR</th><th>W2_SRC_FRAC</th><th>W2_EXT_FLUX</th><th>W2_EXT_FRAC</th><th>W2_NPIX</th><th>FIRST_MATCHED</th><th>FIRST_FLUX</th><th>FIRST_SNR</th><th>SDSS2FIRST_SEP</th><th>JMAG</th><th>JMAG_ERR</th><th>JSNR</th><th>JRDFLAG</th><th>HMAG</th><th>HMAG_ERR</th><th>HSNR</th><th>HRDFLAG</th><th>KMAG</th><th>KMAG_ERR</th><th>KSNR</th><th>KRDFLAG</th><th>SDSS2MASS_SEP</th><th>2RXS_ID</th><th>2RXS_RA</th><th>2RXS_DEC</th><th>2RXS_SRC_FLUX</th><th>2RXS_SRC_FLUX_ERR</th><th>SDSS2ROSAT_SEP</th><th>XMM_SRC_ID</th><th>XMM_RA</th><th>XMM_DEC</th><th>XMM_SOFT_FLUX</th><th>XMM_SOFT_FLUX_ERR</th><th>XMM_HARD_FLUX</th><th>XMM_HARD_FLUX_ERR</th><th>XMM_TOTAL_FLUX</th><th>XMM_TOTAL_FLUX_ERR</th><th>XMM_TOTAL_LUM</th><th>SDSS2XMM_SEP</th><th>GAIA_MATCHED</th><th>GAIA_DESIGNATION</th><th>GAIA_RA</th><th>GAIA_DEC</th><th>GAIA_PARALLAX</th><th>GAIA_PARALLAX_ERR</th><th>GAIA_PM_RA</th><th>GAIA_PM_RA_ERR</th><th>GAIA_PM_DEC</th><th>GAIA_PM_DEC_ERR</th><th>GAIA_G_MAG</th><th>GAIA_G_FLUX_SNR</th><th>GAIA_BP_MAG</th><th>GAIA_BP_FLUX_SNR</th><th>GAIA_RP_MAG</th><th>GAIA_RP_FLUX_SNR</th><th>SDSS2GAIA_SEP</th></tr></thead>\n",
       "<thead><tr><th>bytes18</th><th>float64</th><th>float64</th><th>int32</th><th>int32</th><th>int16</th><th>bytes6</th><th>bytes6</th><th>int16</th><th>float64</th><th>int16</th><th>float64</th><th>int16</th><th>int16</th><th>int16</th><th>int64</th><th>float64</th><th>int16</th><th>int16</th><th>float64</th><th>int16</th><th>float64</th><th>int16</th><th>float64</th><th>float64</th><th>int16</th><th>float64</th><th>bytes12</th><th>float64</th><th>int32</th><th>bytes19</th><th>float64</th><th>int64</th><th>float64</th><th>float64</th><th>int64</th><th>float64</th><th>float64</th><th>int64</th><th>float64</th><th>float64</th><th>int64</th><th>float64</th><th>float64</th><th>int64</th><th>float64</th><th>float64</th><th>int64</th><th>float64</th><th>float64</th><th>int64</th><th>float64</th><th>float32</th><th>float64</th><th>float64</th><th>float64</th><th>float32</th><th>float64</th><th>float64</th><th>float64</th><th>float64</th><th>float64</th><th>float64</th><th>float64</th><th>float64</th><th>int64</th><th>int64</th><th>int64</th><th>int64</th><th>int64</th><th>int64</th><th>int32</th><th>int32</th><th>int32</th><th>int32</th><th>int32</th><th>int16</th><th>int16</th><th>uint8</th><th>int32</th><th>bytes3</th><th>int32</th><th>int32</th><th>int32</th><th>float64</th><th>float64</th><th>float64</th><th>float64</th><th>bytes14</th><th>int32</th><th>float64</th><th>float32</th><th>float64</th><th>float32</th><th>float64</th><th>float32</th><th>float64</th><th>float64</th><th>int16</th><th>float64</th><th>float64</th><th>float64</th><th>float64</th><th>int16</th><th>float64</th><th>float64</th><th>float64</th><th>float64</th><th>float64</th><th>float64</th><th>float64</th><th>float64</th><th>float32</th><th>float32</th><th>float32</th><th>float32</th><th>float32</th><th>float32</th><th>float32</th><th>float32</th><th>float32</th><th>int16</th><th>float32</th><th>float32</th><th>float32</th><th>float32</th><th>float32</th><th>float32</th><th>float32</th><th>float32</th><th>float32</th><th>int16</th><th>int16</th><th>float64</th><th>float64</th><th>float64</th><th>float64</th><th>float64</th><th>float64</th><th>int32</th><th>float64</th><th>float64</th><th>float64</th><th>int32</th><th>float64</th><th>float64</th><th>float64</th><th>int32</th><th>float64</th><th>bytes21</th><th>float64</th><th>float64</th><th>float32</th><th>float32</th><th>float64</th><th>int64</th><th>float64</th><th>float64</th><th>float32</th><th>float32</th><th>float32</th><th>float32</th><th>float32</th><th>float32</th><th>float32</th><th>float64</th><th>int16</th><th>bytes28</th><th>float64</th><th>float64</th><th>float64</th><th>float64</th><th>float64</th><th>float64</th><th>float64</th><th>float64</th><th>float64</th><th>float64</th><th>float64</th><th>float64</th><th>float64</th><th>float64</th><th>float64</th></tr></thead>\n",
       "<tr><td>100417.96+282444.1</td><td>151.07484297406717</td><td>28.412269688389422</td><td>6471</td><td>56309</td><td>794</td><td>QSO</td><td>QSO</td><td>1</td><td>0.3297257062418797</td><td>0</td><td>-1.0</td><td>-1</td><td>-1</td><td>-1</td><td>357023185</td><td>0.328</td><td>3</td><td>3</td><td>0.3283706605434418</td><td>1</td><td>0.3282</td><td>1</td><td>0.328307</td><td>0.3283019959926605</td><td>1</td><td>0.328</td><td>VI</td><td>0.32837095856666565</td><td>0</td><td>1237667113337290759</td><td>0.32819814362128</td><td>0</td><td>532100.1468921155</td><td>0.3285074314431071</td><td>0</td><td>5036.115801336863</td><td>0.32861611810479774</td><td>0</td><td>1118.0765732163086</td><td>0.3304506124880997</td><td>0</td><td>1437.2223734148688</td><td>-1.0</td><td>7682</td><td>0.0</td><td>-1.0</td><td>7682</td><td>0.0</td><td>-1.0</td><td>7682</td><td>0.0</td><td>0.32819813</td><td>-1.0 .. -1.0</td><td>-1.0 .. -1.0</td><td>-1.0 .. -1.0</td><td>-1.0</td><td>-1.0</td><td>-1.0</td><td>-1.0</td><td>-1.0</td><td>-1.0</td><td>-1.0</td><td>-1.0</td><td>-1.0</td><td>0</td><td>0</td><td>0</td><td>0</td><td>0</td><td>8192</td><td>1</td><td>3</td><td>4</td><td>2345 .. -1</td><td>53757 .. -1</td><td>549 .. -1</td><td>1 .. -1</td><td>2</td><td>5038</td><td>301</td><td>5</td><td>167</td><td>7</td><td>5400.0</td><td>0.0</td><td>46.210533142089844</td><td>141.67710876464844</td><td>boss33</td><td>15411</td><td>10.29539966583252</td><td>113.36612 .. 150.18669</td><td>0.396005779504776 .. 0.12160562723875046</td><td>17.36379 .. 17.058395</td><td>0.015219098888337612 .. 0.02072979137301445</td><td>0.10183299 .. 0.0303409</td><td>-24.296182338430594</td><td>36.53562927246094</td><td>1</td><td>59.611534118652344</td><td>0.30005228715340626</td><td>84.21417999267578</td><td>0.4619184945852407</td><td>0</td><td>-1.0</td><td>-1.0</td><td>-1.0</td><td>-1.0</td><td>-1.0</td><td>-1.0</td><td>-1.0</td><td>-1.0</td><td>8946.503</td><td>0.0046666805</td><td>12.620867</td><td>0.0017765071</td><td>205.63808</td><td>611.1634</td><td>0.95680714</td><td>-5.428464</td><td>-0.0006067725</td><td>415</td><td>21992.773</td><td>0.00033328007</td><td>11.6443</td><td>0.002704205</td><td>125.081055</td><td>401.4992</td><td>0.96185815</td><td>-28.019287</td><td>-0.0012740222</td><td>339</td><td>0</td><td>-1.0</td><td>-1.0</td><td>-1.0</td><td>16.52400016784668</td><td>0.14800000190734863</td><td>7.5</td><td>2</td><td>15.404999732971191</td><td>0.11400000005960464</td><td>10.300000190734863</td><td>2</td><td>14.534000396728516</td><td>0.08699999749660492</td><td>13.0</td><td>2</td><td>0.08052426597967705</td><td>-1</td><td>-1.0</td><td>-1.0</td><td>-1.0</td><td>-1.0</td><td>-1.0</td><td>-1</td><td>-1.0</td><td>-1.0</td><td>-1.0</td><td>-1.0</td><td>-1.0</td><td>-1.0</td><td>-1.0</td><td>-1.0</td><td>-1.0</td><td>-1.0</td><td>1</td><td>Gaia DR2 740591759289104896</td><td>151.07486431496753</td><td>28.412255446582645</td><td>-0.506061851978302</td><td>22.580415725708008</td><td>-0.42749178409576416</td><td>13.29361343383789</td><td>0.15474995970726013</td><td>11.709423065185547</td><td>17.221912384033203</td><td>392.7965393066406</td><td>17.199857711791992</td><td>87.19142150878906</td><td>16.82892417907715</td><td>109.73318481445312</td><td>0.08482213957581307</td></tr>\n",
       "<tr><td>105115.75+280527.1</td><td>162.81564052579822</td><td>28.090865182846816</td><td>6449</td><td>56356</td><td>175</td><td>QSO</td><td>QSO</td><td>1</td><td>0.4205364028345935</td><td>0</td><td>-1.0</td><td>-1</td><td>-1</td><td>-1</td><td>353838212</td><td>0.423</td><td>3</td><td>3</td><td>0.42268168926239014</td><td>1</td><td>0.4223</td><td>1</td><td>0.423141</td><td>0.4231429994106293</td><td>1</td><td>0.423</td><td>VI</td><td>0.42269888520240784</td><td>0</td><td>1237667254007300173</td><td>0.4234612017299915</td><td>0</td><td>283527.55825266225</td><td>0.4235139618654824</td><td>0</td><td>951.4644393738058</td><td>0.42306147470567956</td><td>0</td><td>295.27792576745776</td><td>0.42110636469709095</td><td>0</td><td>765.7826317713957</td><td>-1.0</td><td>7682</td><td>0.0</td><td>-1.0</td><td>7682</td><td>0.0</td><td>-1.0</td><td>7682</td><td>0.0</td><td>0.4234612</td><td>-1.0 .. -1.0</td><td>-1.0 .. -1.0</td><td>-1.0 .. -1.0</td><td>-1.0</td><td>-1.0</td><td>-1.0</td><td>-1.0</td><td>-1.0</td><td>-1.0</td><td>-1.0</td><td>-1.0</td><td>-1.0</td><td>0</td><td>0</td><td>0</td><td>0</td><td>0</td><td>8192</td><td>1</td><td>2</td><td>3</td><td>2359 .. -1</td><td>53826 .. -1</td><td>275 .. -1</td><td>1 .. -1</td><td>2</td><td>5071</td><td>301</td><td>3</td><td>317</td><td>77</td><td>5400.0</td><td>0.0</td><td>62.320735931396484</td><td>-210.15977478027344</td><td>boss33</td><td>15389</td><td>9.999710083007812</td><td>116.76129 .. 173.33379</td><td>0.18216213583946228 .. 0.06944313645362854</td><td>17.33175 .. 16.902773</td><td>0.0217868834733963 .. 0.02376898191869259</td><td>0.085413575 .. 0.025448773</td><td>-25.111399208589464</td><td>30.220674514770508</td><td>1</td><td>58.11375045776367</td><td>0.07408919989887575</td><td>71.1379623413086</td><td>0.005852001231549087</td><td>0</td><td>-1.0</td><td>-1.0</td><td>-1.0</td><td>-1.0</td><td>-1.0</td><td>-1.0</td><td>-1.0</td><td>-1.0</td><td>6322.832</td><td>0.0044786325</td><td>12.997721</td><td>0.0025659013</td><td>69.63308</td><td>423.14026</td><td>0.9540988</td><td>0.5122422</td><td>8.101581e-05</td><td>348</td><td>16267.394</td><td>0.0003170562</td><td>11.971705</td><td>0.003748333</td><td>51.862682</td><td>289.6584</td><td>0.960597</td><td>-0.087853596</td><td>-5.4000047e-06</td><td>309</td><td>0</td><td>-1.0</td><td>-1.0</td><td>-1.0</td><td>16.753000259399414</td><td>0.11400000005960464</td><td>9.800000190734863</td><td>2</td><td>15.76099967956543</td><td>0.10000000149011612</td><td>10.5</td><td>2</td><td>14.777999877929688</td><td>0.07900000363588333</td><td>14.100000381469727</td><td>2</td><td>0.13769274334866224</td><td>2RXS J105115.8+280536</td><td>162.81596</td><td>28.093349999999997</td><td>1.2799974e-12</td><td>2.797599e-13</td><td>9.00269863206841</td><td>-1</td><td>-1.0</td><td>-1.0</td><td>-1.0</td><td>-1.0</td><td>-1.0</td><td>-1.0</td><td>-1.0</td><td>-1.0</td><td>-1.0</td><td>-1.0</td><td>1</td><td>Gaia DR2 731372045052646016</td><td>162.81564449330162</td><td>28.090854691725944</td><td>-0.19920487701892853</td><td>28.915929794311523</td><td>-0.09271356463432312</td><td>20.25830078125</td><td>0.37531501054763794</td><td>18.08246421813965</td><td>17.27306365966797</td><td>160.6885986328125</td><td>17.376319885253906</td><td>74.13165283203125</td><td>16.84701156616211</td><td>54.81108856201172</td><td>0.03981453409194192</td></tr>\n",
       "<tr><td>234932.77-003645.8</td><td>357.38654279931677</td><td>-0.6127322384502122</td><td>9208</td><td>57688</td><td>638</td><td>QSO</td><td>QSO</td><td>1</td><td>0.2776226498291361</td><td>0</td><td>-1.0</td><td>-1</td><td>-1</td><td>-1</td><td>85778296</td><td>-1.0</td><td>0</td><td>0</td><td>-1.0</td><td>0</td><td>0.279</td><td>1</td><td>0.279418</td><td>0.2793929874897003</td><td>1</td><td>0.27873411774635315</td><td>PIPE</td><td>0.27873411774635315</td><td>0</td><td>1237657190367166546</td><td>0.2789545591294803</td><td>0</td><td>774053.6928974829</td><td>0.2793540192142867</td><td>0</td><td>80731.88331977653</td><td>0.2791865073958968</td><td>0</td><td>26199.680704197206</td><td>0.28751112181703853</td><td>3106</td><td>41.37506637228995</td><td>-1.0</td><td>7682</td><td>0.0</td><td>-1.0</td><td>7682</td><td>0.0</td><td>-1.0</td><td>7682</td><td>0.0</td><td>0.27895457</td><td>-1.0 .. -1.0</td><td>-1.0 .. -1.0</td><td>-1.0 .. -1.0</td><td>-1.0</td><td>-1.0</td><td>-1.0</td><td>-1.0</td><td>-1.0</td><td>-1.0</td><td>-1.0</td><td>-1.0</td><td>-1.0</td><td>0</td><td>0</td><td>1073741824</td><td>2097152</td><td>0</td><td>0</td><td>1</td><td>2</td><td>3</td><td>386 .. -1</td><td>51788 .. -1</td><td>215 .. -1</td><td>1 .. -1</td><td>2</td><td>2728</td><td>301</td><td>2</td><td>395</td><td>82</td><td>5400.0</td><td>0.0</td><td>-170.36209106445312</td><td>80.52269744873047</td><td>eboss21</td><td>17053</td><td>21.805299758911133</td><td>102.08868 .. 178.70801</td><td>0.2523631453514099 .. 0.06878767907619476</td><td>17.477554 .. 16.869621</td><td>0.02117054909467697 .. 0.0231638140976429</td><td>0.12331831 .. 0.0367424</td><td>-24.06334646963492</td><td>49.57643508911133</td><td>1</td><td>67.42439270019531</td><td>5.488578353992389</td><td>66.593994140625</td><td>0.017205904553121945</td><td>0</td><td>-1.0</td><td>-1.0</td><td>-1.0</td><td>-1.0</td><td>-1.0</td><td>-1.0</td><td>-1.0</td><td>-1.0</td><td>13469.914</td><td>0.0038357829</td><td>12.176588</td><td>0.0013014649</td><td>184.00798</td><td>834.2416</td><td>0.9682156</td><td>33.09215</td><td>0.0024567444</td><td>792</td><td>39670.945</td><td>0.00021649397</td><td>11.0038185</td><td>0.0018600683</td><td>105.17375</td><td>583.7077</td><td>0.9650883</td><td>20.74633</td><td>0.0005229601</td><td>436</td><td>0</td><td>-1.0</td><td>-1.0</td><td>-1.0</td><td>15.967000007629395</td><td>0.07599999755620956</td><td>17.0</td><td>2</td><td>15.277000427246094</td><td>0.10599999874830246</td><td>13.300000190734863</td><td>2</td><td>14.02299976348877</td><td>0.0560000017285347</td><td>22.200000762939453</td><td>2</td><td>0.04693713265783091</td><td>-1</td><td>-1.0</td><td>-1.0</td><td>-1.0</td><td>-1.0</td><td>-1.0</td><td>-1</td><td>-1.0</td><td>-1.0</td><td>-1.0</td><td>-1.0</td><td>-1.0</td><td>-1.0</td><td>-1.0</td><td>-1.0</td><td>-1.0</td><td>-1.0</td><td>1</td><td>Gaia DR2 2641839748184631424</td><td>357.3865399340344</td><td>-0.6127308212764838</td><td>0.04961802437901497</td><td>68.58399200439453</td><td>-0.16804705560207367</td><td>20.135520935058594</td><td>-0.4371274709701538</td><td>48.42024612426758</td><td>17.019054412841797</td><td>282.69598388671875</td><td>17.072336196899414</td><td>51.747623443603516</td><td>16.503589630126953</td><td>66.48101043701172</td><td>0.01150721604975332</td></tr>\n",
       "</table>"
      ],
      "text/plain": [
       "<Table length=3>\n",
       "    SDSS_NAME              RA         ...  GAIA_RP_FLUX_SNR     SDSS2GAIA_SEP   \n",
       "     bytes18            float64       ...      float64             float64      \n",
       "------------------ ------------------ ... ------------------ -------------------\n",
       "100417.96+282444.1 151.07484297406717 ... 109.73318481445312 0.08482213957581307\n",
       "105115.75+280527.1 162.81564052579822 ...  54.81108856201172 0.03981453409194192\n",
       "234932.77-003645.8 357.38654279931677 ...  66.48101043701172 0.01150721604975332"
      ]
     },
     "execution_count": 107,
     "metadata": {},
     "output_type": "execute_result"
    }
   ],
   "source": [
    "dr16q[mask]"
   ]
  },
  {
   "cell_type": "code",
   "execution_count": 108,
   "id": "alien-translation",
   "metadata": {},
   "outputs": [
    {
     "data": {
      "text/html": [
       "<i>Table length=3</i>\n",
       "<table id=\"table140037399698960\" class=\"table-striped table-bordered table-condensed\">\n",
       "<thead><tr><th>NSPEC_SDSS</th><th>NSPEC_BOSS</th><th>NSPEC</th></tr></thead>\n",
       "<thead><tr><th>int32</th><th>int32</th><th>int32</th></tr></thead>\n",
       "<tr><td>1</td><td>3</td><td>4</td></tr>\n",
       "<tr><td>1</td><td>2</td><td>3</td></tr>\n",
       "<tr><td>1</td><td>2</td><td>3</td></tr>\n",
       "</table>"
      ],
      "text/plain": [
       "<Table length=3>\n",
       "NSPEC_SDSS NSPEC_BOSS NSPEC\n",
       "  int32      int32    int32\n",
       "---------- ---------- -----\n",
       "         1          3     4\n",
       "         1          2     3\n",
       "         1          2     3"
      ]
     },
     "execution_count": 108,
     "metadata": {},
     "output_type": "execute_result"
    }
   ],
   "source": [
    "# checking the spec columns of the table above\n",
    "spec_cols = ['NSPEC_SDSS','NSPEC_BOSS','NSPEC']\n",
    "dr16q[mask][spec_cols]"
   ]
  },
  {
   "cell_type": "markdown",
   "id": "cutting-classroom",
   "metadata": {},
   "source": [
    "Looks like for the quasars which satisfy those constraints, they have one spectrum from SDSS and one from BOSS. But what about TDSS and eBOSS!?"
   ]
  },
  {
   "cell_type": "code",
   "execution_count": 69,
   "id": "fewer-fairy",
   "metadata": {},
   "outputs": [],
   "source": [
    "# Adding an int_id column\n",
    "# int_qsos = pd.read_csv('data/int_prop_qsos.csv')\n",
    "# int_qsos['int_id'] = np.arange(1,450)\n",
    "# int_qsos = int_qsos.set_index('int_id')\n",
    "# int_qsos.to_csv('data/int_prop_qsos.csv'"
   ]
  },
  {
   "cell_type": "code",
   "execution_count": 91,
   "id": "religious-audience",
   "metadata": {},
   "outputs": [],
   "source": [
    "int_qsos = pd.read_csv('data/qsos_spec_secondary.csv', index_col='int_id')"
   ]
  },
  {
   "cell_type": "code",
   "execution_count": 97,
   "id": "scheduled-canada",
   "metadata": {},
   "outputs": [
    {
     "data": {
      "text/html": [
       "<div>\n",
       "<style scoped>\n",
       "    .dataframe tbody tr th:only-of-type {\n",
       "        vertical-align: middle;\n",
       "    }\n",
       "\n",
       "    .dataframe tbody tr th {\n",
       "        vertical-align: top;\n",
       "    }\n",
       "\n",
       "    .dataframe thead th {\n",
       "        text-align: right;\n",
       "    }\n",
       "</style>\n",
       "<table border=\"1\" class=\"dataframe\">\n",
       "  <thead>\n",
       "    <tr style=\"text-align: right;\">\n",
       "      <th></th>\n",
       "      <th>get_nearby_distance</th>\n",
       "      <th>z</th>\n",
       "      <th>fiberID</th>\n",
       "      <th>plate</th>\n",
       "      <th>mjd</th>\n",
       "      <th>bestobjid</th>\n",
       "      <th>specobjid</th>\n",
       "    </tr>\n",
       "    <tr>\n",
       "      <th>int_id</th>\n",
       "      <th></th>\n",
       "      <th></th>\n",
       "      <th></th>\n",
       "      <th></th>\n",
       "      <th></th>\n",
       "      <th></th>\n",
       "      <th></th>\n",
       "    </tr>\n",
       "  </thead>\n",
       "  <tbody>\n",
       "    <tr>\n",
       "      <th>1</th>\n",
       "      <td>0.000227</td>\n",
       "      <td>0.117007</td>\n",
       "      <td>612</td>\n",
       "      <td>1582</td>\n",
       "      <td>52939</td>\n",
       "      <td>1237661125071208589</td>\n",
       "      <td>1781341927212345344</td>\n",
       "    </tr>\n",
       "    <tr>\n",
       "      <th>2</th>\n",
       "      <td>0.001351</td>\n",
       "      <td>0.121609</td>\n",
       "      <td>469</td>\n",
       "      <td>1610</td>\n",
       "      <td>53144</td>\n",
       "      <td>1237661813346009111</td>\n",
       "      <td>1812827820502575104</td>\n",
       "    </tr>\n",
       "    <tr>\n",
       "      <th>3</th>\n",
       "      <td>0.001686</td>\n",
       "      <td>0.126988</td>\n",
       "      <td>466</td>\n",
       "      <td>1943</td>\n",
       "      <td>53386</td>\n",
       "      <td>1237664870287736963</td>\n",
       "      <td>2187751668907534336</td>\n",
       "    </tr>\n",
       "    <tr>\n",
       "      <th>4</th>\n",
       "      <td>0.000889</td>\n",
       "      <td>0.055235</td>\n",
       "      <td>517</td>\n",
       "      <td>2783</td>\n",
       "      <td>54524</td>\n",
       "      <td>1237665566604525581</td>\n",
       "      <td>3133521628521064448</td>\n",
       "    </tr>\n",
       "    <tr>\n",
       "      <th>5</th>\n",
       "      <td>0.000512</td>\n",
       "      <td>0.129969</td>\n",
       "      <td>483</td>\n",
       "      <td>2794</td>\n",
       "      <td>54537</td>\n",
       "      <td>1237665566614159471</td>\n",
       "      <td>3145897181865601024</td>\n",
       "    </tr>\n",
       "    <tr>\n",
       "      <th>...</th>\n",
       "      <td>...</td>\n",
       "      <td>...</td>\n",
       "      <td>...</td>\n",
       "      <td>...</td>\n",
       "      <td>...</td>\n",
       "      <td>...</td>\n",
       "      <td>...</td>\n",
       "    </tr>\n",
       "    <tr>\n",
       "      <th>446</th>\n",
       "      <td>0.000276</td>\n",
       "      <td>0.173816</td>\n",
       "      <td>988</td>\n",
       "      <td>8533</td>\n",
       "      <td>58017</td>\n",
       "      <td>1237662701332136105</td>\n",
       "      <td>9607575618964443136</td>\n",
       "    </tr>\n",
       "    <tr>\n",
       "      <th>447</th>\n",
       "      <td>0.000647</td>\n",
       "      <td>0.028656</td>\n",
       "      <td>218</td>\n",
       "      <td>1930</td>\n",
       "      <td>53347</td>\n",
       "      <td>1237664667887534206</td>\n",
       "      <td>2173046799743346688</td>\n",
       "    </tr>\n",
       "    <tr>\n",
       "      <th>448</th>\n",
       "      <td>0.000002</td>\n",
       "      <td>0.395375</td>\n",
       "      <td>767</td>\n",
       "      <td>8755</td>\n",
       "      <td>58138</td>\n",
       "      <td>1237667227682472026</td>\n",
       "      <td>9857464652296114176</td>\n",
       "    </tr>\n",
       "    <tr>\n",
       "      <th>448</th>\n",
       "      <td>0.000002</td>\n",
       "      <td>0.395384</td>\n",
       "      <td>123</td>\n",
       "      <td>11071</td>\n",
       "      <td>58429</td>\n",
       "      <td>1237667227682472026</td>\n",
       "      <td>12464871820053729280</td>\n",
       "    </tr>\n",
       "    <tr>\n",
       "      <th>449</th>\n",
       "      <td>0.000209</td>\n",
       "      <td>0.065401</td>\n",
       "      <td>414</td>\n",
       "      <td>7652</td>\n",
       "      <td>57579</td>\n",
       "      <td>1237680529738825995</td>\n",
       "      <td>8615500013769084928</td>\n",
       "    </tr>\n",
       "  </tbody>\n",
       "</table>\n",
       "<p>595 rows × 7 columns</p>\n",
       "</div>"
      ],
      "text/plain": [
       "        get_nearby_distance         z  fiberID  plate    mjd  \\\n",
       "int_id                                                         \n",
       "1                  0.000227  0.117007      612   1582  52939   \n",
       "2                  0.001351  0.121609      469   1610  53144   \n",
       "3                  0.001686  0.126988      466   1943  53386   \n",
       "4                  0.000889  0.055235      517   2783  54524   \n",
       "5                  0.000512  0.129969      483   2794  54537   \n",
       "...                     ...       ...      ...    ...    ...   \n",
       "446                0.000276  0.173816      988   8533  58017   \n",
       "447                0.000647  0.028656      218   1930  53347   \n",
       "448                0.000002  0.395375      767   8755  58138   \n",
       "448                0.000002  0.395384      123  11071  58429   \n",
       "449                0.000209  0.065401      414   7652  57579   \n",
       "\n",
       "                  bestobjid             specobjid  \n",
       "int_id                                             \n",
       "1       1237661125071208589   1781341927212345344  \n",
       "2       1237661813346009111   1812827820502575104  \n",
       "3       1237664870287736963   2187751668907534336  \n",
       "4       1237665566604525581   3133521628521064448  \n",
       "5       1237665566614159471   3145897181865601024  \n",
       "...                     ...                   ...  \n",
       "446     1237662701332136105   9607575618964443136  \n",
       "447     1237664667887534206   2173046799743346688  \n",
       "448     1237667227682472026   9857464652296114176  \n",
       "448     1237667227682472026  12464871820053729280  \n",
       "449     1237680529738825995   8615500013769084928  \n",
       "\n",
       "[595 rows x 7 columns]"
      ]
     },
     "execution_count": 97,
     "metadata": {},
     "output_type": "execute_result"
    }
   ],
   "source": [
    "int_qsos"
   ]
  },
  {
   "cell_type": "code",
   "execution_count": 98,
   "id": "concerned-driving",
   "metadata": {},
   "outputs": [],
   "source": [
    "repeats = int_qsos[int_qsos.index.duplicated(keep=False)]"
   ]
  },
  {
   "cell_type": "code",
   "execution_count": 99,
   "id": "framed-biotechnology",
   "metadata": {},
   "outputs": [
    {
     "name": "stdout",
     "output_type": "stream",
     "text": [
      "qsos with repeat spectra with z<0.5 g<17: 120\n"
     ]
    }
   ],
   "source": [
    "print('qsos with repeat spectra with z<0.5 g<17: {}'.format(len(repeats.index.unique())))"
   ]
  },
  {
   "cell_type": "code",
   "execution_count": 100,
   "id": "indian-private",
   "metadata": {},
   "outputs": [
    {
     "data": {
      "text/plain": [
       "47     8\n",
       "188    4\n",
       "256    4\n",
       "258    4\n",
       "242    4\n",
       "      ..\n",
       "321    2\n",
       "325    2\n",
       "329    2\n",
       "341    2\n",
       "10     2\n",
       "Name: int_id, Length: 120, dtype: int64"
      ]
     },
     "execution_count": 100,
     "metadata": {},
     "output_type": "execute_result"
    }
   ],
   "source": [
    "repeats.index.value_counts()"
   ]
  },
  {
   "cell_type": "code",
   "execution_count": 103,
   "id": "animated-promise",
   "metadata": {},
   "outputs": [
    {
     "data": {
      "text/plain": [
       "array([51871, 51931, 51936, 51942, 52235, 52250, 52254, 52258])"
      ]
     },
     "execution_count": 103,
     "metadata": {},
     "output_type": "execute_result"
    }
   ],
   "source": [
    "repeats.loc[47]['mjd'].values"
   ]
  },
  {
   "cell_type": "code",
   "execution_count": null,
   "id": "constant-player",
   "metadata": {},
   "outputs": [],
   "source": []
  }
 ],
 "metadata": {
  "kernelspec": {
   "display_name": "Python 3",
   "language": "python",
   "name": "python3"
  },
  "language_info": {
   "codemirror_mode": {
    "name": "ipython",
    "version": 3
   },
   "file_extension": ".py",
   "mimetype": "text/x-python",
   "name": "python",
   "nbconvert_exporter": "python",
   "pygments_lexer": "ipython3",
   "version": "3.6.10"
  }
 },
 "nbformat": 4,
 "nbformat_minor": 5
}
